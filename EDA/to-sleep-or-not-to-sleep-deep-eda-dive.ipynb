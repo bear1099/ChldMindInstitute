{
 "cells": [
  {
   "cell_type": "code",
   "execution_count": 2,
   "metadata": {
    "_cell_guid": "b1076dfc-b9ad-4769-8c92-a6c4dae69d19",
    "_kg_hide-input": true,
    "_uuid": "8f2839f25d086af736a60e9eeb907d3b93b6e0e5",
    "execution": {
     "iopub.execute_input": "2023-10-04T10:52:57.49117Z",
     "iopub.status.busy": "2023-10-04T10:52:57.490821Z",
     "iopub.status.idle": "2023-10-04T10:52:59.525643Z",
     "shell.execute_reply": "2023-10-04T10:52:59.524542Z",
     "shell.execute_reply.started": "2023-10-04T10:52:57.491143Z"
    },
    "ExecuteTime": {
     "end_time": "2023-10-17T16:03:27.995999500Z",
     "start_time": "2023-10-17T16:03:25.987521600Z"
    }
   },
   "outputs": [
    {
     "data": {
      "text/plain": "<IPython.core.display.HTML object>",
      "text/html": "<marquee>👌</marquee>"
     },
     "metadata": {},
     "output_type": "display_data"
    }
   ],
   "source": [
    "from IPython.display import HTML\n",
    "import time\n",
    "\n",
    "handle = display(HTML(\"\"\"<marquee>👌</marquee>\"\"\"), display_id='html_marquee1')\n",
    "time.sleep(2)\n",
    "handle = display(HTML(\"\"\"<marquee>~ \"There is a time for many words, and there is also a time for sleep.\" – Homer, The Odyssey</marquee>\"\"\"), display_id='html_marquee1', update=True)"
   ]
  },
  {
   "cell_type": "markdown",
   "metadata": {},
   "source": [
    "# <div style=\"color:white;background-color:#1d1545;padding:3%;border-radius:50px 50px;font-size:1em;text-align:center\">Executive Summary</div>\n",
    "\n",
    "<div class=\"alert alert-block alert-info\"> 📌 <b>Summary</b>: This notebook is intended to \n",
    "<ul>\n",
    "    <li>Provide the exhaustive EDA on the dataset for <a href=\"https://www.kaggle.com/competitions/child-mind-institute-detect-sleep-states\" target='_blannk'>Child Mind Institute - Detect Sleep States contest</a></li>\n",
    "    <li>Perform the time series analysis of the sleeping events</li>\n",
    "    <li>Summarize and evaluate feature engineering ideas (such a feature engineering is useful if you are going to tackle the prediction challenge as a tabular classification problem rather then a time series forecasting task)</li>\n",
    "</ul></div>\n",
    "\n",
    "<div class=\"alert alert-block alert-success\"> 🧰 <b>Key highlights</b>:\n",
    "    <ul>\n",
    "        <li>TBD</li>\n",
    "    </ul>\n",
    "</div> \n",
    "\n",
    "Based on the insights derived in the EDA / data analytics drills across this notebook, the solid ML experiments can be set up down the road.\n",
    "\n",
    "## <div style=\"font-size:20px;text-align:center;color:black;border-bottom:5px #0026d6 solid;padding-bottom:3%\">Status of This Notebook</div>\n",
    "\n",
    "<div style=\"color:black;\n",
    "           display:fill;\n",
    "           border-radius:5px;\n",
    "           background-color:#fad3cf;\n",
    "           font-size:90%;\n",
    "           font-family:Verdana;\n",
    "           letter-spacing:0.5px\">\n",
    "<b>Note to Readers:</b> It is essentially work in progress as of this moment. The incremental updates in future will add more content to the respective sections of the notebook.\n",
    "</div>"
   ]
  },
  {
   "cell_type": "code",
   "execution_count": 3,
   "metadata": {
    "_kg_hide-input": true,
    "execution": {
     "iopub.execute_input": "2023-10-04T10:52:59.532376Z",
     "iopub.status.busy": "2023-10-04T10:52:59.527383Z",
     "iopub.status.idle": "2023-10-04T10:53:02.298648Z",
     "shell.execute_reply": "2023-10-04T10:53:02.297526Z",
     "shell.execute_reply.started": "2023-10-04T10:52:59.532327Z"
    },
    "ExecuteTime": {
     "end_time": "2023-10-17T16:03:31.516291Z",
     "start_time": "2023-10-17T16:03:27.999529300Z"
    }
   },
   "outputs": [],
   "source": [
    "import gc\n",
    "import pandas as pd\n",
    "import numpy as np\n",
    "import datetime as dt\n",
    "\n",
    "import matplotlib.pyplot as plt\n",
    "import matplotlib.cm as cm\n",
    "import seaborn as sns\n",
    "\n",
    "import plotly.graph_objects as go\n",
    "from plotly.subplots import make_subplots\n",
    "import plotly.express as px\n",
    "import plotly.offline\n",
    "\n",
    "from colorama import Fore, Style, init\n",
    "from pprint import pprint\n",
    "\n",
    "\n"
   ]
  },
  {
   "cell_type": "code",
   "execution_count": 4,
   "metadata": {
    "_kg_hide-input": true,
    "_kg_hide-output": true,
    "execution": {
     "iopub.execute_input": "2023-10-04T10:53:02.301673Z",
     "iopub.status.busy": "2023-10-04T10:53:02.300692Z",
     "iopub.status.idle": "2023-10-04T10:53:02.306849Z",
     "shell.execute_reply": "2023-10-04T10:53:02.305759Z",
     "shell.execute_reply.started": "2023-10-04T10:53:02.301634Z"
    },
    "ExecuteTime": {
     "end_time": "2023-10-17T16:03:31.527618200Z",
     "start_time": "2023-10-17T16:03:31.519427500Z"
    }
   },
   "outputs": [],
   "source": [
    "# Color printing\n",
    "# inspired by https://www.kaggle.com/code/ravi20076/sleepstate-eda-baseline\n",
    "def PrintColor(text:str, color = Fore.BLUE, style = Style.BRIGHT):\n",
    "    \"Prints color outputs using colorama using a text F-string\";\n",
    "    print(style + color + text + Style.RESET_ALL);"
   ]
  },
  {
   "cell_type": "markdown",
   "metadata": {
    "_kg_hide-output": true
   },
   "source": [
    "# <div style=\"color:white;background-color:#1d1545;padding:3%;border-radius:50px 50px;font-size:1em;text-align:center\">About the Competition and Its Dataset</div>\n",
    "\n",
    "The **goal of the competition** is to detect sleep onset and wake. We are requested to develop a model trained on wrist-worn accelerometer data in order to determine a person's sleep state.\n",
    "\n",
    "The training dataset is composed of\n",
    "- The Multi-day recordings of wrist-worn accelerometer (provided as a parquet file).\n",
    "- The labelling file with the data annotated with two event types: **onset**, the beginning of sleep, and **wakeup**, the end of the sleeping time (provided as a CSV file).\n",
    "\n",
    "Both data files represent the essential time series-type data.\n",
    "\n",
    "For the testing set, only the accelerometer-based data (in parquet format) are provided.\n",
    "\n",
    "Essential summary on the data for the contest is quoted below, as per the note from the contest hosts\n",
    "\n",
    "<blockquote>\n",
    "    <div class=\"alert alert-block alert-success\"> ✅ <b>Data description</b>: The dataset comprises about 500 multi-day recordings of wrist-worn accelerometer data annotated with two event types: onset, the beginning of sleep, and wakeup, the end of sleep. Your task is to detect the occurrence of these two events in the accelerometer series.<br><br>\n",
    "\n",
    "While sleep logbooks remain the gold-standard, when working with accelerometer data we refer to sleep as the longest single period of inactivity while the watch is being worn. For this data, we have guided raters with several concrete instructions:\n",
    "\n",
    "<ul>\n",
    "    <li>A single sleep period must be at least 30 minutes in length</li>\n",
    "    <li>A single sleep period can be interrupted by bouts of activity that do not exceed 30 consecutive minutes</li>\n",
    "<li>No sleep windows can be detected unless the watch is deemed to be worn for the duration</li>\n",
    "<li>The longest sleep window during the night is the only one which is recorded</li>\n",
    "<li>If no valid sleep window is identifiable, neither an onset nor a wakeup event is recorded for that night.</li>\n",
    "<li>Sleep events do not need to straddle the day-line, and therefore there is no hard rule defining how many may occur within a given period. However, no more than one window should be assigned per night. For example, it is valid for an individual to have a sleep window from 01h00–06h00 and 19h00–23h30 in the same calendar day, though assigned to consecutive nights.</li>\n",
    "<li>There are roughly as many nights recorded for a series as there are 24-hour periods in that series.\n",
    "</ul><br>\n",
    "        \n",
    "Though each series is a continuous recording, there may be periods in the series when the accelerometer device was removed. These period are determined as those where suspiciously little variation in the accelerometer signals occur over an extended period of time, which is unrealistic for typical human participants. Events are not annotated for these periods, and you should attempt to refrain from making event predictions during these periods: an event prediction will be scored as false positive.<br>\n",
    "\n",
    "Each data series represents this continuous (multi-day/event) recording for a unique experimental subject.\n",
    "    </div>\n",
    "</blockquote>\n",
    "\n",
    "## <div style=\"font-size:20px;text-align:center;color:black;border-bottom:5px #0026d6 solid;padding-bottom:3%\">train_series.parquet Details</div>\n",
    "\n",
    "This file represents series to be used as training data. Each series is a continuous recording of accelerometer data for a single subject spanning many days.\n",
    "\n",
    "The table below summarizes the structure of the initial accelerometer data provided:\n",
    "\n",
    "<style>\n",
    "#features {\n",
    "  font-family: Arial, Helvetica, sans-serif;\n",
    "  border-collapse: collapse;\n",
    "  width: 100%;\n",
    "}\n",
    "\n",
    "#features td, #features th {\n",
    "  border: 1px solid #ddd;\n",
    "  padding: 8px;\n",
    "}\n",
    "\n",
    "#features tr:nth-child(even){background-color: #f2f2f2;}\n",
    "\n",
    "#features tr:hover {background-color: #ddd;}\n",
    "\n",
    "#features th {\n",
    "  padding-top: 12px;\n",
    "  padding-bottom: 12px;\n",
    "  text-align: left;\n",
    "  background-color: #CBC3E3;\n",
    "  color: white;\n",
    "}\n",
    "</style>\n",
    "\n",
    "<table id=\"features\">\n",
    "    <tr>\n",
    "        <th>Attribute</th>\n",
    "        <th>Description</th>\n",
    "        <th>Comments</th>\n",
    "    </tr>\n",
    "    <tr>\n",
    "      <td><b><i>series_id</i></b></td>\n",
    "      <td>Unique identifier for each accelerometer series</td>\n",
    "      <td>&nbsp;</td>\n",
    "    </tr>\n",
    "    <tr>\n",
    "      <td><b><i>step</i></b></td>\n",
    "      <td>An integer timestep for each observation within a series.</td>\n",
    "      <td>It is unique within a series</td>\n",
    "    </tr>\n",
    "    <tr>\n",
    "      <td><b><i>timestamp</i></b></td>\n",
    "      <td>A corresponding datetime in ISO 8601 format: <i>%Y-%m-%dT%H:%M:%S%z.</i></td>\n",
    "      <td>&nbsp;</td>\n",
    "    </tr>\n",
    "    <tr>\n",
    "      <td><b><i>anglez</i></b></td>\n",
    "      <td>As calculated and described by the GGIR package, z-angle is a metric derived from individual accelerometer components that is commonly used in sleep detection, and refers to the angle of the arm relative to the vertical axis of the body</td>\n",
    "        <td>You can refer to <a href=\"https://cran.r-project.org/web/packages/GGIR/vignettes/GGIR.html#4_Inspecting_the_results\" target=\"_blank\">Accelerometer data processing with GGIR</a> for more details</td>\n",
    "    </tr>\n",
    "    <tr>\n",
    "      <td><b><i>enmo</i></b></td>\n",
    "      <td>As calculated and described by the GGIR package, ENMO is the Euclidean Norm Minus One of all accelerometer signals, with negative values rounded to zero. While no standard measure of acceleration exists in this space, this is one of the several commonly computed features</td>\n",
    "      <td>You can refer to <a href=\"https://cran.r-project.org/web/packages/GGIR/vignettes/GGIR.html#4_Inspecting_the_results\" target=\"_blank\">Accelerometer data processing with GGIR</a> for more details</td>\n",
    "    </tr>\n",
    "</table>"
   ]
  },
  {
   "cell_type": "markdown",
   "metadata": {},
   "source": [
    "## <div style=\"font-size:20px;text-align:center;color:black;border-bottom:5px #0026d6 solid;padding-bottom:3%\">test_series.parquet Details</div>\n",
    "\n",
    "This file contains the details on the series to be used as the test data, containing the same fields as above. The goal is to predict event occurrences for series in this file.\n"
   ]
  },
  {
   "cell_type": "markdown",
   "metadata": {},
   "source": [
    "## <div style=\"font-size:20px;text-align:center;color:black;border-bottom:5px #0026d6 solid;padding-bottom:3%\">train_events.csv Details</div>\n",
    "\n",
    "This file represents series to be used as training data. Each series is a continuous recording of accelerometer data for a single subject spanning many days.\n",
    "\n",
    "The table below summarizes the structure of the initial accelerometer data provided:\n",
    "\n",
    "<style>\n",
    "#features {\n",
    "  font-family: Arial, Helvetica, sans-serif;\n",
    "  border-collapse: collapse;\n",
    "  width: 100%;\n",
    "}\n",
    "\n",
    "#features td, #features th {\n",
    "  border: 1px solid #ddd;\n",
    "  padding: 8px;\n",
    "}\n",
    "\n",
    "#features tr:nth-child(even){background-color: #f2f2f2;}\n",
    "\n",
    "#features tr:hover {background-color: #ddd;}\n",
    "\n",
    "#features th {\n",
    "  padding-top: 12px;\n",
    "  padding-bottom: 12px;\n",
    "  text-align: left;\n",
    "  background-color: #CBC3E3;\n",
    "  color: white;\n",
    "}\n",
    "</style>\n",
    "\n",
    "<table id=\"features\">\n",
    "    <tr>\n",
    "        <th>Attribute</th>\n",
    "        <th>Description</th>\n",
    "        <th>Comments</th>\n",
    "    </tr>\n",
    "    <tr>\n",
    "      <td><b><i>series_id</i></b></td>\n",
    "      <td>Unique identifier for each accelerometer series, corresponding to the identifies for each series of accelerometer data in <i>train_series.parquet.</i></td>\n",
    "      <td>&nbsp;</td>\n",
    "    </tr>\n",
    "    <tr>\n",
    "      <td><b><i>night</i></b></td>\n",
    "        <td>An enumeration of potential <i>onset / wakeup</i> event pairs. At most one pair of events can occur for each night.</td>\n",
    "      <td>&nbsp;</td>\n",
    "    </tr>\n",
    "    <tr>\n",
    "      <td><b><i>event</i></b></td>\n",
    "        <td>The type of event, whether <i>onset</i> or <i>wakeup</i>.</td>\n",
    "      <td>&nbsp;</td>\n",
    "    </tr>\n",
    "    <tr>\n",
    "      <td><b><i>step</i></b></td>\n",
    "      <td>An integer timestep for each observation within a series.</td>\n",
    "      <td>It is unique within a series</td>\n",
    "    </tr>\n",
    "    <tr>\n",
    "      <td><b><i>timestamp</i></b></td>\n",
    "      <td>The recorded time of occurence of the event in the accelerometer series in ISO 8601 format: <i>%Y-%m-%dT%H:%M:%S%z.</i></td>\n",
    "      <td>&nbsp;</td>\n",
    "    </tr>\n",
    "</table>"
   ]
  },
  {
   "cell_type": "markdown",
   "metadata": {},
   "source": [
    "# <div style=\"color:white;background-color:#1d1545;padding:3%;border-radius:50px 50px;font-size:1em;text-align:center\">Reading Data</div>\n",
    "\n",
    "## <div style=\"font-size:20px;text-align:center;color:black;border-bottom:5px #0026d6 solid;padding-bottom:3%\">Initial Data Inspection</div>\n",
    "\n",
    "First of all, we are going to read the data in memory.\n",
    "\n",
    "Since the size of the dataset (especially, its parquet parts with accelerometer data feeds) is quite big, time- and memory-effective data loading should be implemented.\n",
    "\n",
    "Therefore, we are going to use Polars, the fast alternative to Pandas. So, out data loading strategy is going to be as follows\n",
    "Apache Parquet（Parquet）はHadoopの各種プロジェクトで利用できるオープンソースのファイルフォーマットです。 カラムナフォーマットと呼ばれるデータ保存形式で、必要なカラムのみを読み込むことでIOを削減し、データアクセス速度の向上を実現します。\n",
    "- use Polars to read both the parquet and csv files in memory\n",
    "- convert the output to the Pandas dataframes to enable data analytics and EDA experiments as needed\n",
    "- as a part of such data loading, we will also extract the features from timestamp values in series and events data (namely, we will decompose the timestamps into year, month, day, and hour components to enable insight-reach EDA down the road)\n",
    "- compress the series data in memory by reducing the RAM usage by the respective Pandas dataframes\n",
    "\n",
    "<div class=\"alert alert-block alert-info\"> ✅ <b>Note</b>: Pandas is an essential Python library for Data Science. But its biggest downside is that it can be slow for operations on large datasets. Polars is a Pandas alternative designed to process data faster. You can refer to the references provided in \"References\" chapter below to learn more about Polars.</div>\n"
   ]
  },
  {
   "cell_type": "code",
   "execution_count": 5,
   "outputs": [],
   "source": [
    "root_path = \"C:/Users/illbe/DataspellProjects/ChildMindInstitute/Resources\"\n"
   ],
   "metadata": {
    "collapsed": false,
    "ExecuteTime": {
     "end_time": "2023-10-17T16:03:31.527618200Z",
     "start_time": "2023-10-17T16:03:31.524610100Z"
    }
   }
  },
  {
   "cell_type": "code",
   "execution_count": 6,
   "outputs": [
    {
     "name": "stdout",
     "output_type": "stream",
     "text": [
      "CPU times: total: 1min 4s\n",
      "Wall time: 47.5 s\n"
     ]
    }
   ],
   "source": [
    "%%time\n",
    "# inspired by https://www.kaggle.com/code/enricomanosperti/detect-sleep-states-first-preprocessing-and-eda\n",
    "import polars as pl\n",
    "root_path = \"C:/Users/illbe/DataspellProjects/ChildMindInstitute/Resources\"\n",
    "train_series = (pl.scan_parquet(root_path + '/kaggle/input/child-mind-institute-detect-sleep-states/train_series.parquet')\n",
    "                .with_columns(\n",
    "                    (\n",
    "                        (pl.col(\"timestamp\").str.strptime(pl.Datetime, \"%Y-%m-%dT%H:%M:%S%Z\")),\n",
    "                        (pl.col(\"timestamp\").str.strptime(pl.Datetime, \"%Y-%m-%dT%H:%M:%S%Z\").dt.year().alias(\"year\")),\n",
    "                        (pl.col(\"timestamp\").str.strptime(pl.Datetime, \"%Y-%m-%dT%H:%M:%S%Z\").dt.month().alias(\"month\")),\n",
    "                        (pl.col(\"timestamp\").str.strptime(pl.Datetime, \"%Y-%m-%dT%H:%M:%S%Z\").dt.day().alias(\"day\")),\n",
    "                        (pl.col(\"timestamp\").str.strptime(pl.Datetime, \"%Y-%m-%dT%H:%M:%S%Z\").dt.hour().alias(\"hour\")),\n",
    "                    )\n",
    "                )\n",
    "                .collect()\n",
    "                .to_pandas()\n",
    "               )"
   ],
   "metadata": {
    "collapsed": false,
    "ExecuteTime": {
     "end_time": "2023-10-17T16:04:18.988502500Z",
     "start_time": "2023-10-17T16:03:31.529617100Z"
    }
   }
  },
  {
   "cell_type": "code",
   "execution_count": 7,
   "metadata": {
    "_kg_hide-input": true,
    "execution": {
     "iopub.execute_input": "2023-10-04T10:53:58.350995Z",
     "iopub.status.busy": "2023-10-04T10:53:58.35032Z",
     "iopub.status.idle": "2023-10-04T10:53:58.371633Z",
     "shell.execute_reply": "2023-10-04T10:53:58.370474Z",
     "shell.execute_reply.started": "2023-10-04T10:53:58.350956Z"
    },
    "ExecuteTime": {
     "end_time": "2023-10-17T16:04:19.059700700Z",
     "start_time": "2023-10-17T16:04:18.989835800Z"
    }
   },
   "outputs": [
    {
     "data": {
      "text/plain": "      series_id  step           timestamp  anglez    enmo  year  month  day  \\\n0  038441c925bb     0 2018-08-14 15:30:00  2.6367  0.0217  2018      8   14   \n1  038441c925bb     1 2018-08-14 15:30:05  2.6368  0.0215  2018      8   14   \n2  038441c925bb     2 2018-08-14 15:30:10  2.6370  0.0216  2018      8   14   \n3  038441c925bb     3 2018-08-14 15:30:15  2.6368  0.0213  2018      8   14   \n4  038441c925bb     4 2018-08-14 15:30:20  2.6368  0.0215  2018      8   14   \n\n   hour  \n0    15  \n1    15  \n2    15  \n3    15  \n4    15  ",
      "text/html": "<div>\n<style scoped>\n    .dataframe tbody tr th:only-of-type {\n        vertical-align: middle;\n    }\n\n    .dataframe tbody tr th {\n        vertical-align: top;\n    }\n\n    .dataframe thead th {\n        text-align: right;\n    }\n</style>\n<table border=\"1\" class=\"dataframe\">\n  <thead>\n    <tr style=\"text-align: right;\">\n      <th></th>\n      <th>series_id</th>\n      <th>step</th>\n      <th>timestamp</th>\n      <th>anglez</th>\n      <th>enmo</th>\n      <th>year</th>\n      <th>month</th>\n      <th>day</th>\n      <th>hour</th>\n    </tr>\n  </thead>\n  <tbody>\n    <tr>\n      <th>0</th>\n      <td>038441c925bb</td>\n      <td>0</td>\n      <td>2018-08-14 15:30:00</td>\n      <td>2.6367</td>\n      <td>0.0217</td>\n      <td>2018</td>\n      <td>8</td>\n      <td>14</td>\n      <td>15</td>\n    </tr>\n    <tr>\n      <th>1</th>\n      <td>038441c925bb</td>\n      <td>1</td>\n      <td>2018-08-14 15:30:05</td>\n      <td>2.6368</td>\n      <td>0.0215</td>\n      <td>2018</td>\n      <td>8</td>\n      <td>14</td>\n      <td>15</td>\n    </tr>\n    <tr>\n      <th>2</th>\n      <td>038441c925bb</td>\n      <td>2</td>\n      <td>2018-08-14 15:30:10</td>\n      <td>2.6370</td>\n      <td>0.0216</td>\n      <td>2018</td>\n      <td>8</td>\n      <td>14</td>\n      <td>15</td>\n    </tr>\n    <tr>\n      <th>3</th>\n      <td>038441c925bb</td>\n      <td>3</td>\n      <td>2018-08-14 15:30:15</td>\n      <td>2.6368</td>\n      <td>0.0213</td>\n      <td>2018</td>\n      <td>8</td>\n      <td>14</td>\n      <td>15</td>\n    </tr>\n    <tr>\n      <th>4</th>\n      <td>038441c925bb</td>\n      <td>4</td>\n      <td>2018-08-14 15:30:20</td>\n      <td>2.6368</td>\n      <td>0.0215</td>\n      <td>2018</td>\n      <td>8</td>\n      <td>14</td>\n      <td>15</td>\n    </tr>\n  </tbody>\n</table>\n</div>"
     },
     "execution_count": 7,
     "metadata": {},
     "output_type": "execute_result"
    }
   ],
   "source": [
    "train_series.head()"
   ]
  },
  {
   "cell_type": "code",
   "execution_count": 8,
   "metadata": {
    "_kg_hide-input": true,
    "execution": {
     "iopub.execute_input": "2023-10-04T10:53:58.373521Z",
     "iopub.status.busy": "2023-10-04T10:53:58.373069Z",
     "iopub.status.idle": "2023-10-04T10:53:58.393463Z",
     "shell.execute_reply": "2023-10-04T10:53:58.392366Z",
     "shell.execute_reply.started": "2023-10-04T10:53:58.373482Z"
    },
    "ExecuteTime": {
     "end_time": "2023-10-17T16:04:19.074656500Z",
     "start_time": "2023-10-17T16:04:19.059700700Z"
    }
   },
   "outputs": [
    {
     "name": "stdout",
     "output_type": "stream",
     "text": [
      "<class 'pandas.core.frame.DataFrame'>\n",
      "RangeIndex: 127946340 entries, 0 to 127946339\n",
      "Data columns (total 9 columns):\n",
      " #   Column     Dtype         \n",
      "---  ------     -----         \n",
      " 0   series_id  object        \n",
      " 1   step       uint32        \n",
      " 2   timestamp  datetime64[ns]\n",
      " 3   anglez     float32       \n",
      " 4   enmo       float32       \n",
      " 5   year       int32         \n",
      " 6   month      uint32        \n",
      " 7   day        uint32        \n",
      " 8   hour       uint32        \n",
      "dtypes: datetime64[ns](1), float32(2), int32(1), object(1), uint32(4)\n",
      "memory usage: 5.2+ GB\n"
     ]
    }
   ],
   "source": [
    "train_series.info()"
   ]
  },
  {
   "cell_type": "code",
   "execution_count": 9,
   "metadata": {
    "_kg_hide-input": true,
    "execution": {
     "iopub.execute_input": "2023-10-04T10:53:58.395003Z",
     "iopub.status.busy": "2023-10-04T10:53:58.394709Z",
     "iopub.status.idle": "2023-10-04T10:53:58.445218Z",
     "shell.execute_reply": "2023-10-04T10:53:58.444126Z",
     "shell.execute_reply.started": "2023-10-04T10:53:58.394977Z"
    },
    "ExecuteTime": {
     "end_time": "2023-10-17T16:04:19.220750600Z",
     "start_time": "2023-10-17T16:04:19.074656500Z"
    }
   },
   "outputs": [
    {
     "name": "stdout",
     "output_type": "stream",
     "text": [
      "CPU times: total: 31.2 ms\n",
      "Wall time: 127 ms\n"
     ]
    }
   ],
   "source": [
    "%%time\n",
    "train_events = (pl.scan_csv(root_path + '/kaggle/input/child-mind-institute-detect-sleep-states/train_events.csv')\n",
    "                .with_columns(\n",
    "                    (\n",
    "                        (pl.col(\"timestamp\").str.strptime(pl.Datetime, \"%Y-%m-%dT%H:%M:%S%Z\")),\n",
    "                        (pl.col(\"timestamp\").str.strptime(pl.Datetime, \"%Y-%m-%dT%H:%M:%S%Z\").dt.year().alias(\"year\")),\n",
    "                        (pl.col(\"timestamp\").str.strptime(pl.Datetime, \"%Y-%m-%dT%H:%M:%S%Z\").dt.month().alias(\"month\")),\n",
    "                        (pl.col(\"timestamp\").str.strptime(pl.Datetime, \"%Y-%m-%dT%H:%M:%S%Z\").dt.day().alias(\"day\")),\n",
    "                        (pl.col(\"timestamp\").str.strptime(pl.Datetime, \"%Y-%m-%dT%H:%M:%S%Z\").dt.hour().alias(\"hour\")),\n",
    "                    )\n",
    "                )\n",
    "                .collect()\n",
    "                .to_pandas()\n",
    "               )"
   ]
  },
  {
   "cell_type": "code",
   "execution_count": 10,
   "metadata": {
    "_kg_hide-input": true,
    "execution": {
     "iopub.execute_input": "2023-10-04T10:53:58.446919Z",
     "iopub.status.busy": "2023-10-04T10:53:58.44651Z",
     "iopub.status.idle": "2023-10-04T10:53:58.462278Z",
     "shell.execute_reply": "2023-10-04T10:53:58.461183Z",
     "shell.execute_reply.started": "2023-10-04T10:53:58.446872Z"
    },
    "ExecuteTime": {
     "end_time": "2023-10-17T16:04:19.221751700Z",
     "start_time": "2023-10-17T16:04:19.207727200Z"
    }
   },
   "outputs": [
    {
     "data": {
      "text/plain": "      series_id  night   event     step           timestamp    year  month  \\\n0  038441c925bb      1   onset   4992.0 2018-08-14 22:26:00  2018.0    8.0   \n1  038441c925bb      1  wakeup  10932.0 2018-08-15 06:41:00  2018.0    8.0   \n2  038441c925bb      2   onset  20244.0 2018-08-15 19:37:00  2018.0    8.0   \n3  038441c925bb      2  wakeup  27492.0 2018-08-16 05:41:00  2018.0    8.0   \n4  038441c925bb      3   onset  39996.0 2018-08-16 23:03:00  2018.0    8.0   \n\n    day  hour  \n0  14.0  22.0  \n1  15.0   6.0  \n2  15.0  19.0  \n3  16.0   5.0  \n4  16.0  23.0  ",
      "text/html": "<div>\n<style scoped>\n    .dataframe tbody tr th:only-of-type {\n        vertical-align: middle;\n    }\n\n    .dataframe tbody tr th {\n        vertical-align: top;\n    }\n\n    .dataframe thead th {\n        text-align: right;\n    }\n</style>\n<table border=\"1\" class=\"dataframe\">\n  <thead>\n    <tr style=\"text-align: right;\">\n      <th></th>\n      <th>series_id</th>\n      <th>night</th>\n      <th>event</th>\n      <th>step</th>\n      <th>timestamp</th>\n      <th>year</th>\n      <th>month</th>\n      <th>day</th>\n      <th>hour</th>\n    </tr>\n  </thead>\n  <tbody>\n    <tr>\n      <th>0</th>\n      <td>038441c925bb</td>\n      <td>1</td>\n      <td>onset</td>\n      <td>4992.0</td>\n      <td>2018-08-14 22:26:00</td>\n      <td>2018.0</td>\n      <td>8.0</td>\n      <td>14.0</td>\n      <td>22.0</td>\n    </tr>\n    <tr>\n      <th>1</th>\n      <td>038441c925bb</td>\n      <td>1</td>\n      <td>wakeup</td>\n      <td>10932.0</td>\n      <td>2018-08-15 06:41:00</td>\n      <td>2018.0</td>\n      <td>8.0</td>\n      <td>15.0</td>\n      <td>6.0</td>\n    </tr>\n    <tr>\n      <th>2</th>\n      <td>038441c925bb</td>\n      <td>2</td>\n      <td>onset</td>\n      <td>20244.0</td>\n      <td>2018-08-15 19:37:00</td>\n      <td>2018.0</td>\n      <td>8.0</td>\n      <td>15.0</td>\n      <td>19.0</td>\n    </tr>\n    <tr>\n      <th>3</th>\n      <td>038441c925bb</td>\n      <td>2</td>\n      <td>wakeup</td>\n      <td>27492.0</td>\n      <td>2018-08-16 05:41:00</td>\n      <td>2018.0</td>\n      <td>8.0</td>\n      <td>16.0</td>\n      <td>5.0</td>\n    </tr>\n    <tr>\n      <th>4</th>\n      <td>038441c925bb</td>\n      <td>3</td>\n      <td>onset</td>\n      <td>39996.0</td>\n      <td>2018-08-16 23:03:00</td>\n      <td>2018.0</td>\n      <td>8.0</td>\n      <td>16.0</td>\n      <td>23.0</td>\n    </tr>\n  </tbody>\n</table>\n</div>"
     },
     "execution_count": 10,
     "metadata": {},
     "output_type": "execute_result"
    }
   ],
   "source": [
    "train_events.head()"
   ]
  },
  {
   "cell_type": "code",
   "execution_count": 11,
   "metadata": {
    "_kg_hide-input": true,
    "execution": {
     "iopub.execute_input": "2023-10-04T10:53:58.464733Z",
     "iopub.status.busy": "2023-10-04T10:53:58.463677Z",
     "iopub.status.idle": "2023-10-04T10:53:58.482863Z",
     "shell.execute_reply": "2023-10-04T10:53:58.481754Z",
     "shell.execute_reply.started": "2023-10-04T10:53:58.464691Z"
    },
    "ExecuteTime": {
     "end_time": "2023-10-17T16:04:19.245078700Z",
     "start_time": "2023-10-17T16:04:19.224752600Z"
    }
   },
   "outputs": [
    {
     "name": "stdout",
     "output_type": "stream",
     "text": [
      "<class 'pandas.core.frame.DataFrame'>\n",
      "RangeIndex: 14508 entries, 0 to 14507\n",
      "Data columns (total 9 columns):\n",
      " #   Column     Non-Null Count  Dtype         \n",
      "---  ------     --------------  -----         \n",
      " 0   series_id  14508 non-null  object        \n",
      " 1   night      14508 non-null  int64         \n",
      " 2   event      14508 non-null  object        \n",
      " 3   step       9585 non-null   float64       \n",
      " 4   timestamp  9585 non-null   datetime64[ns]\n",
      " 5   year       9585 non-null   float64       \n",
      " 6   month      9585 non-null   float64       \n",
      " 7   day        9585 non-null   float64       \n",
      " 8   hour       9585 non-null   float64       \n",
      "dtypes: datetime64[ns](1), float64(5), int64(1), object(2)\n",
      "memory usage: 1020.2+ KB\n"
     ]
    }
   ],
   "source": [
    "train_events.info()"
   ]
  },
  {
   "cell_type": "code",
   "execution_count": 12,
   "metadata": {
    "_kg_hide-input": true,
    "execution": {
     "iopub.execute_input": "2023-10-04T10:53:58.486331Z",
     "iopub.status.busy": "2023-10-04T10:53:58.486026Z",
     "iopub.status.idle": "2023-10-04T10:53:58.500822Z",
     "shell.execute_reply": "2023-10-04T10:53:58.499701Z",
     "shell.execute_reply.started": "2023-10-04T10:53:58.486304Z"
    },
    "ExecuteTime": {
     "end_time": "2023-10-17T16:04:19.304993500Z",
     "start_time": "2023-10-17T16:04:19.239078400Z"
    }
   },
   "outputs": [
    {
     "name": "stdout",
     "output_type": "stream",
     "text": [
      "CPU times: total: 0 ns\n",
      "Wall time: 5 ms\n"
     ]
    }
   ],
   "source": [
    "%%time\n",
    "test_series = (pl.scan_parquet(root_path + '/kaggle/input/child-mind-institute-detect-sleep-states/test_series.parquet')\n",
    "                .with_columns(\n",
    "                    (\n",
    "                        (pl.col(\"timestamp\").str.strptime(pl.Datetime, \"%Y-%m-%dT%H:%M:%S%Z\")),\n",
    "                        (pl.col(\"timestamp\").str.strptime(pl.Datetime, \"%Y-%m-%dT%H:%M:%S%Z\").dt.year().alias(\"year\")),\n",
    "                        (pl.col(\"timestamp\").str.strptime(pl.Datetime, \"%Y-%m-%dT%H:%M:%S%Z\").dt.month().alias(\"month\")),\n",
    "                        (pl.col(\"timestamp\").str.strptime(pl.Datetime, \"%Y-%m-%dT%H:%M:%S%Z\").dt.day().alias(\"day\")),\n",
    "                        (pl.col(\"timestamp\").str.strptime(pl.Datetime, \"%Y-%m-%dT%H:%M:%S%Z\").dt.hour().alias(\"hour\")),\n",
    "                    )\n",
    "                )\n",
    "                .collect()\n",
    "                .to_pandas()\n",
    "               )"
   ]
  },
  {
   "cell_type": "code",
   "execution_count": 13,
   "metadata": {
    "_kg_hide-input": true,
    "execution": {
     "iopub.execute_input": "2023-10-04T10:53:58.502473Z",
     "iopub.status.busy": "2023-10-04T10:53:58.502108Z",
     "iopub.status.idle": "2023-10-04T10:53:58.516373Z",
     "shell.execute_reply": "2023-10-04T10:53:58.515227Z",
     "shell.execute_reply.started": "2023-10-04T10:53:58.502418Z"
    },
    "ExecuteTime": {
     "end_time": "2023-10-17T16:04:19.361507800Z",
     "start_time": "2023-10-17T16:04:19.252286200Z"
    }
   },
   "outputs": [
    {
     "name": "stdout",
     "output_type": "stream",
     "text": [
      "<class 'pandas.core.frame.DataFrame'>\n",
      "RangeIndex: 450 entries, 0 to 449\n",
      "Data columns (total 9 columns):\n",
      " #   Column     Non-Null Count  Dtype         \n",
      "---  ------     --------------  -----         \n",
      " 0   series_id  450 non-null    object        \n",
      " 1   step       450 non-null    uint32        \n",
      " 2   timestamp  450 non-null    datetime64[ns]\n",
      " 3   anglez     450 non-null    float32       \n",
      " 4   enmo       450 non-null    float32       \n",
      " 5   year       450 non-null    int32         \n",
      " 6   month      450 non-null    uint32        \n",
      " 7   day        450 non-null    uint32        \n",
      " 8   hour       450 non-null    uint32        \n",
      "dtypes: datetime64[ns](1), float32(2), int32(1), object(1), uint32(4)\n",
      "memory usage: 19.5+ KB\n"
     ]
    }
   ],
   "source": [
    "test_series.info()"
   ]
  },
  {
   "cell_type": "markdown",
   "metadata": {},
   "source": [
    "Before we do the analytical drills, let's optimize the RAM consumption of the notebook, with compressing the series data in memorty."
   ]
  },
  {
   "cell_type": "code",
   "execution_count": 14,
   "metadata": {
    "_kg_hide-input": true,
    "execution": {
     "iopub.execute_input": "2023-10-04T10:53:58.519143Z",
     "iopub.status.busy": "2023-10-04T10:53:58.518683Z",
     "iopub.status.idle": "2023-10-04T10:54:04.386257Z",
     "shell.execute_reply": "2023-10-04T10:54:04.385183Z",
     "shell.execute_reply.started": "2023-10-04T10:53:58.519116Z"
    },
    "ExecuteTime": {
     "end_time": "2023-10-17T16:04:23.459106200Z",
     "start_time": "2023-10-17T16:04:19.281986800Z"
    }
   },
   "outputs": [
    {
     "name": "stdout",
     "output_type": "stream",
     "text": [
      "Memory usage of dataframe is 5368.84 MB\n",
      "Memory usage after optimization is: 3904.61 MB\n",
      "Decreased by 27.27%\n",
      "CPU times: total: 2.62 s\n",
      "Wall time: 4.18 s\n"
     ]
    }
   ],
   "source": [
    "%%time\n",
    "# inspired by https://www.kaggle.com/code/renatoreggiani/reduce-memory-usage-zzzs-cmi\n",
    "# with tweaks determined by the selected polars loading strategy\n",
    "# tweaks inspired by https://github.com/softhints/Pandas-Tutorials/blob/master/column/3.check-dtype-column-columns-pandas-dataframe.ipynb\n",
    "from pandas.api.types import is_datetime64_ns_dtype\n",
    "def reduce_mem_usage(df):\n",
    "    \"\"\" iterate through all numeric columns of a dataframe and modify the data type\n",
    "        to reduce memory usage.        \n",
    "    \"\"\"\n",
    "    start_mem = df.memory_usage().sum() / 1024**2\n",
    "    print(f'Memory usage of dataframe is {start_mem:.2f} MB')\n",
    "    \n",
    "    for col in df.columns:\n",
    "        col_type = df[col].dtype\n",
    "\n",
    "        if col_type != object and not is_datetime64_ns_dtype(df[col]):\n",
    "            c_min = df[col].min()\n",
    "            c_max = df[col].max()\n",
    "            if str(col_type)[:3] == 'int':\n",
    "                if c_min > np.iinfo(np.int8).min and c_max < np.iinfo(np.int8).max:\n",
    "                    df[col] = df[col].astype(np.int8)\n",
    "                elif c_min > np.iinfo(np.int16).min and c_max < np.iinfo(np.int16).max:\n",
    "                    df[col] = df[col].astype(np.int16)\n",
    "                elif c_min > np.iinfo(np.int32).min and c_max < np.iinfo(np.int32).max:\n",
    "                    df[col] = df[col].astype(np.int32)\n",
    "                elif c_min > np.iinfo(np.int64).min and c_max < np.iinfo(np.int64).max:\n",
    "                    df[col] = df[col].astype(np.int64)  \n",
    "            else:\n",
    "                if c_min > np.finfo(np.float16).min and c_max < np.finfo(np.float16).max:\n",
    "                    df[col] = df[col].astype(np.float16)\n",
    "                elif c_min > np.finfo(np.float32).min and c_max < np.finfo(np.float32).max:\n",
    "                    df[col] = df[col].astype(np.float32)\n",
    "                else:\n",
    "                    df[col] = df[col].astype(np.float16)\n",
    "\n",
    "    end_mem = df.memory_usage().sum() / 1024**2\n",
    "    print(f'Memory usage after optimization is: {end_mem:.2f} MB')\n",
    "    decrease = 100 * (start_mem - end_mem) / start_mem\n",
    "    print(f'Decreased by {decrease:.2f}%')\n",
    "    \n",
    "    return df\n",
    "\n",
    "train_series = reduce_mem_usage(train_series)"
   ]
  },
  {
   "cell_type": "code",
   "execution_count": 15,
   "metadata": {
    "_kg_hide-input": true,
    "_kg_hide-output": false,
    "execution": {
     "iopub.execute_input": "2023-10-04T10:54:04.388438Z",
     "iopub.status.busy": "2023-10-04T10:54:04.387779Z",
     "iopub.status.idle": "2023-10-04T10:54:04.400917Z",
     "shell.execute_reply": "2023-10-04T10:54:04.399913Z",
     "shell.execute_reply.started": "2023-10-04T10:54:04.388382Z"
    },
    "ExecuteTime": {
     "end_time": "2023-10-17T16:04:23.469825Z",
     "start_time": "2023-10-17T16:04:23.461106300Z"
    }
   },
   "outputs": [
    {
     "name": "stdout",
     "output_type": "stream",
     "text": [
      "Memory usage of dataframe is 0.02 MB\n",
      "Memory usage after optimization is: 0.01 MB\n",
      "Decreased by 31.61%\n",
      "CPU times: total: 0 ns\n",
      "Wall time: 5 ms\n"
     ]
    }
   ],
   "source": [
    "%%time\n",
    "test_series = reduce_mem_usage(test_series)"
   ]
  },
  {
   "cell_type": "markdown",
   "metadata": {},
   "source": [
    "## <div style=\"font-size:20px;text-align:center;color:black;border-bottom:5px #0026d6 solid;padding-bottom:3%\">Missing Values Review: Train Events Data</div>\n",
    "\n",
    "Let's review the spread of the missing values in the train events data."
   ]
  },
  {
   "cell_type": "code",
   "execution_count": 16,
   "metadata": {
    "_kg_hide-input": true,
    "execution": {
     "iopub.execute_input": "2023-10-04T10:54:04.402319Z",
     "iopub.status.busy": "2023-10-04T10:54:04.402047Z",
     "iopub.status.idle": "2023-10-04T10:54:04.419578Z",
     "shell.execute_reply": "2023-10-04T10:54:04.418413Z",
     "shell.execute_reply.started": "2023-10-04T10:54:04.402294Z"
    },
    "ExecuteTime": {
     "end_time": "2023-10-17T16:04:23.477133Z",
     "start_time": "2023-10-17T16:04:23.471822900Z"
    }
   },
   "outputs": [
    {
     "name": "stdout",
     "output_type": "stream",
     "text": [
      "\u001B[1m\u001B[34m\n",
      "---> column:  series_id\t Percent of NaN value: 0.00%\u001B[0m\n",
      "\u001B[1m\u001B[34m\n",
      "---> column:      night\t Percent of NaN value: 0.00%\u001B[0m\n",
      "\u001B[1m\u001B[34m\n",
      "---> column:      event\t Percent of NaN value: 0.00%\u001B[0m\n",
      "\u001B[1m\u001B[34m\n",
      "---> column:       step\t Percent of NaN value: 33.93%\u001B[0m\n",
      "\u001B[1m\u001B[34m\n",
      "---> column:  timestamp\t Percent of NaN value: 33.93%\u001B[0m\n",
      "\u001B[1m\u001B[34m\n",
      "---> column:       year\t Percent of NaN value: 33.93%\u001B[0m\n",
      "\u001B[1m\u001B[34m\n",
      "---> column:      month\t Percent of NaN value: 33.93%\u001B[0m\n",
      "\u001B[1m\u001B[34m\n",
      "---> column:        day\t Percent of NaN value: 33.93%\u001B[0m\n",
      "\u001B[1m\u001B[34m\n",
      "---> column:       hour\t Percent of NaN value: 33.93%\u001B[0m\n"
     ]
    }
   ],
   "source": [
    "for col in train_events.columns:\n",
    "    msg = 'column: {:>10}\\t Percent of NaN value: {:.2f}%'.format(col,100*(train_events[col].isnull().sum()/train_events[col].shape[0]))\n",
    "    PrintColor(f\"\\n---> {msg}\");\n",
    "    #print(msg)"
   ]
  },
  {
   "cell_type": "markdown",
   "metadata": {},
   "source": [
    "Now, let's visualize the missing values spread in the dataset. \n",
    "\n",
    "<div class=\"alert alert-block alert-info\"> ✅ <b>Tip</b>: The good instrument to quickly visualize the missing values in a dataset is the specialized library - <i><b>missingno</b></i>. We are going to demonstrate it below.\n",
    "</div>\n",
    "\n",
    "First of all, we will look at the ratio of the missing values as a bar chart"
   ]
  },
  {
   "cell_type": "code",
   "execution_count": 17,
   "metadata": {
    "_kg_hide-input": true,
    "execution": {
     "iopub.execute_input": "2023-10-04T10:54:04.421041Z",
     "iopub.status.busy": "2023-10-04T10:54:04.420736Z",
     "iopub.status.idle": "2023-10-04T10:54:05.656747Z",
     "shell.execute_reply": "2023-10-04T10:54:05.655634Z",
     "shell.execute_reply.started": "2023-10-04T10:54:04.421014Z"
    },
    "ExecuteTime": {
     "end_time": "2023-10-17T16:04:25.254892700Z",
     "start_time": "2023-10-17T16:04:23.479136300Z"
    }
   },
   "outputs": [
    {
     "data": {
      "text/plain": "<Axes: >"
     },
     "execution_count": 17,
     "metadata": {},
     "output_type": "execute_result"
    },
    {
     "data": {
      "text/plain": "<Figure size 2400x1000 with 3 Axes>",
      "image/png": "[encoded data removed]"
     },
     "metadata": {},
     "output_type": "display_data"
    }
   ],
   "source": [
    "import missingno as msno\n",
    "\n",
    "msno.bar(train_events, color=(0.3,0.3,0.5))"
   ]
  },
  {
   "cell_type": "markdown",
   "metadata": {},
   "source": [
    "Now we are going to look at the actual records inn the train events data affected in the matrix view"
   ]
  },
  {
   "cell_type": "code",
   "execution_count": 18,
   "metadata": {
    "_kg_hide-input": true,
    "execution": {
     "iopub.execute_input": "2023-10-04T10:54:05.658756Z",
     "iopub.status.busy": "2023-10-04T10:54:05.65814Z",
     "iopub.status.idle": "2023-10-04T10:54:06.418053Z",
     "shell.execute_reply": "2023-10-04T10:54:06.416913Z",
     "shell.execute_reply.started": "2023-10-04T10:54:05.658714Z"
    },
    "ExecuteTime": {
     "end_time": "2023-10-17T16:04:27.462342600Z",
     "start_time": "2023-10-17T16:04:25.255894600Z"
    }
   },
   "outputs": [
    {
     "ename": "ValueError",
     "evalue": "keyword grid_b is not recognized; valid keywords are ['size', 'width', 'color', 'tickdir', 'pad', 'labelsize', 'labelcolor', 'zorder', 'gridOn', 'tick1On', 'tick2On', 'label1On', 'label2On', 'length', 'direction', 'left', 'bottom', 'right', 'top', 'labelleft', 'labelbottom', 'labelright', 'labeltop', 'labelrotation', 'grid_agg_filter', 'grid_alpha', 'grid_animated', 'grid_antialiased', 'grid_clip_box', 'grid_clip_on', 'grid_clip_path', 'grid_color', 'grid_dash_capstyle', 'grid_dash_joinstyle', 'grid_dashes', 'grid_data', 'grid_drawstyle', 'grid_figure', 'grid_fillstyle', 'grid_gapcolor', 'grid_gid', 'grid_in_layout', 'grid_label', 'grid_linestyle', 'grid_linewidth', 'grid_marker', 'grid_markeredgecolor', 'grid_markeredgewidth', 'grid_markerfacecolor', 'grid_markerfacecoloralt', 'grid_markersize', 'grid_markevery', 'grid_mouseover', 'grid_path_effects', 'grid_picker', 'grid_pickradius', 'grid_rasterized', 'grid_sketch_params', 'grid_snap', 'grid_solid_capstyle', 'grid_solid_joinstyle', 'grid_transform', 'grid_url', 'grid_visible', 'grid_xdata', 'grid_ydata', 'grid_zorder', 'grid_aa', 'grid_c', 'grid_ds', 'grid_ls', 'grid_lw', 'grid_mec', 'grid_mew', 'grid_mfc', 'grid_mfcalt', 'grid_ms']",
     "output_type": "error",
     "traceback": [
      "\u001B[1;31m---------------------------------------------------------------------------\u001B[0m",
      "\u001B[1;31mValueError\u001B[0m                                Traceback (most recent call last)",
      "Cell \u001B[1;32mIn[18], line 1\u001B[0m\n\u001B[1;32m----> 1\u001B[0m msno\u001B[38;5;241m.\u001B[39mmatrix(train_events, color\u001B[38;5;241m=\u001B[39m(\u001B[38;5;241m0.3\u001B[39m,\u001B[38;5;241m0.3\u001B[39m,\u001B[38;5;241m0.5\u001B[39m))\n",
      "File \u001B[1;32mE:\\anaconda3\\envs\\Kaggle\\Lib\\site-packages\\missingno\\missingno.py:72\u001B[0m, in \u001B[0;36mmatrix\u001B[1;34m(df, filter, n, p, sort, figsize, width_ratios, color, fontsize, labels, sparkline, inline, freq, ax)\u001B[0m\n\u001B[0;32m     70\u001B[0m \u001B[38;5;66;03m# Remove extraneous default visual elements.\u001B[39;00m\n\u001B[0;32m     71\u001B[0m ax0\u001B[38;5;241m.\u001B[39mset_aspect(\u001B[38;5;124m'\u001B[39m\u001B[38;5;124mauto\u001B[39m\u001B[38;5;124m'\u001B[39m)\n\u001B[1;32m---> 72\u001B[0m ax0\u001B[38;5;241m.\u001B[39mgrid(b\u001B[38;5;241m=\u001B[39m\u001B[38;5;28;01mFalse\u001B[39;00m)\n\u001B[0;32m     73\u001B[0m ax0\u001B[38;5;241m.\u001B[39mxaxis\u001B[38;5;241m.\u001B[39mtick_top()\n\u001B[0;32m     74\u001B[0m ax0\u001B[38;5;241m.\u001B[39mxaxis\u001B[38;5;241m.\u001B[39mset_ticks_position(\u001B[38;5;124m'\u001B[39m\u001B[38;5;124mnone\u001B[39m\u001B[38;5;124m'\u001B[39m)\n",
      "File \u001B[1;32mE:\\anaconda3\\envs\\Kaggle\\Lib\\site-packages\\matplotlib\\axes\\_base.py:3194\u001B[0m, in \u001B[0;36m_AxesBase.grid\u001B[1;34m(self, visible, which, axis, **kwargs)\u001B[0m\n\u001B[0;32m   3192\u001B[0m _api\u001B[38;5;241m.\u001B[39mcheck_in_list([\u001B[38;5;124m'\u001B[39m\u001B[38;5;124mx\u001B[39m\u001B[38;5;124m'\u001B[39m, \u001B[38;5;124m'\u001B[39m\u001B[38;5;124my\u001B[39m\u001B[38;5;124m'\u001B[39m, \u001B[38;5;124m'\u001B[39m\u001B[38;5;124mboth\u001B[39m\u001B[38;5;124m'\u001B[39m], axis\u001B[38;5;241m=\u001B[39maxis)\n\u001B[0;32m   3193\u001B[0m \u001B[38;5;28;01mif\u001B[39;00m axis \u001B[38;5;129;01min\u001B[39;00m [\u001B[38;5;124m'\u001B[39m\u001B[38;5;124mx\u001B[39m\u001B[38;5;124m'\u001B[39m, \u001B[38;5;124m'\u001B[39m\u001B[38;5;124mboth\u001B[39m\u001B[38;5;124m'\u001B[39m]:\n\u001B[1;32m-> 3194\u001B[0m     \u001B[38;5;28mself\u001B[39m\u001B[38;5;241m.\u001B[39mxaxis\u001B[38;5;241m.\u001B[39mgrid(visible, which\u001B[38;5;241m=\u001B[39mwhich, \u001B[38;5;241m*\u001B[39m\u001B[38;5;241m*\u001B[39mkwargs)\n\u001B[0;32m   3195\u001B[0m \u001B[38;5;28;01mif\u001B[39;00m axis \u001B[38;5;129;01min\u001B[39;00m [\u001B[38;5;124m'\u001B[39m\u001B[38;5;124my\u001B[39m\u001B[38;5;124m'\u001B[39m, \u001B[38;5;124m'\u001B[39m\u001B[38;5;124mboth\u001B[39m\u001B[38;5;124m'\u001B[39m]:\n\u001B[0;32m   3196\u001B[0m     \u001B[38;5;28mself\u001B[39m\u001B[38;5;241m.\u001B[39myaxis\u001B[38;5;241m.\u001B[39mgrid(visible, which\u001B[38;5;241m=\u001B[39mwhich, \u001B[38;5;241m*\u001B[39m\u001B[38;5;241m*\u001B[39mkwargs)\n",
      "File \u001B[1;32mE:\\anaconda3\\envs\\Kaggle\\Lib\\site-packages\\matplotlib\\axis.py:1660\u001B[0m, in \u001B[0;36mAxis.grid\u001B[1;34m(self, visible, which, **kwargs)\u001B[0m\n\u001B[0;32m   1657\u001B[0m \u001B[38;5;28;01mif\u001B[39;00m which \u001B[38;5;129;01min\u001B[39;00m [\u001B[38;5;124m'\u001B[39m\u001B[38;5;124mmajor\u001B[39m\u001B[38;5;124m'\u001B[39m, \u001B[38;5;124m'\u001B[39m\u001B[38;5;124mboth\u001B[39m\u001B[38;5;124m'\u001B[39m]:\n\u001B[0;32m   1658\u001B[0m     gridkw[\u001B[38;5;124m'\u001B[39m\u001B[38;5;124mgridOn\u001B[39m\u001B[38;5;124m'\u001B[39m] \u001B[38;5;241m=\u001B[39m (\u001B[38;5;129;01mnot\u001B[39;00m \u001B[38;5;28mself\u001B[39m\u001B[38;5;241m.\u001B[39m_major_tick_kw[\u001B[38;5;124m'\u001B[39m\u001B[38;5;124mgridOn\u001B[39m\u001B[38;5;124m'\u001B[39m]\n\u001B[0;32m   1659\u001B[0m                         \u001B[38;5;28;01mif\u001B[39;00m visible \u001B[38;5;129;01mis\u001B[39;00m \u001B[38;5;28;01mNone\u001B[39;00m \u001B[38;5;28;01melse\u001B[39;00m visible)\n\u001B[1;32m-> 1660\u001B[0m     \u001B[38;5;28mself\u001B[39m\u001B[38;5;241m.\u001B[39mset_tick_params(which\u001B[38;5;241m=\u001B[39m\u001B[38;5;124m'\u001B[39m\u001B[38;5;124mmajor\u001B[39m\u001B[38;5;124m'\u001B[39m, \u001B[38;5;241m*\u001B[39m\u001B[38;5;241m*\u001B[39mgridkw)\n\u001B[0;32m   1661\u001B[0m \u001B[38;5;28mself\u001B[39m\u001B[38;5;241m.\u001B[39mstale \u001B[38;5;241m=\u001B[39m \u001B[38;5;28;01mTrue\u001B[39;00m\n",
      "File \u001B[1;32mE:\\anaconda3\\envs\\Kaggle\\Lib\\site-packages\\matplotlib\\axis.py:932\u001B[0m, in \u001B[0;36mAxis.set_tick_params\u001B[1;34m(self, which, reset, **kwargs)\u001B[0m\n\u001B[0;32m    919\u001B[0m \u001B[38;5;250m\u001B[39m\u001B[38;5;124;03m\"\"\"\u001B[39;00m\n\u001B[0;32m    920\u001B[0m \u001B[38;5;124;03mSet appearance parameters for ticks, ticklabels, and gridlines.\u001B[39;00m\n\u001B[0;32m    921\u001B[0m \n\u001B[1;32m   (...)\u001B[0m\n\u001B[0;32m    929\u001B[0m \u001B[38;5;124;03m    gridlines.\u001B[39;00m\n\u001B[0;32m    930\u001B[0m \u001B[38;5;124;03m\"\"\"\u001B[39;00m\n\u001B[0;32m    931\u001B[0m _api\u001B[38;5;241m.\u001B[39mcheck_in_list([\u001B[38;5;124m'\u001B[39m\u001B[38;5;124mmajor\u001B[39m\u001B[38;5;124m'\u001B[39m, \u001B[38;5;124m'\u001B[39m\u001B[38;5;124mminor\u001B[39m\u001B[38;5;124m'\u001B[39m, \u001B[38;5;124m'\u001B[39m\u001B[38;5;124mboth\u001B[39m\u001B[38;5;124m'\u001B[39m], which\u001B[38;5;241m=\u001B[39mwhich)\n\u001B[1;32m--> 932\u001B[0m kwtrans \u001B[38;5;241m=\u001B[39m \u001B[38;5;28mself\u001B[39m\u001B[38;5;241m.\u001B[39m_translate_tick_params(kwargs)\n\u001B[0;32m    934\u001B[0m \u001B[38;5;66;03m# the kwargs are stored in self._major/minor_tick_kw so that any\u001B[39;00m\n\u001B[0;32m    935\u001B[0m \u001B[38;5;66;03m# future new ticks will automatically get them\u001B[39;00m\n\u001B[0;32m    936\u001B[0m \u001B[38;5;28;01mif\u001B[39;00m reset:\n",
      "File \u001B[1;32mE:\\anaconda3\\envs\\Kaggle\\Lib\\site-packages\\matplotlib\\axis.py:1076\u001B[0m, in \u001B[0;36mAxis._translate_tick_params\u001B[1;34m(kw, reverse)\u001B[0m\n\u001B[0;32m   1074\u001B[0m \u001B[38;5;28;01mfor\u001B[39;00m key \u001B[38;5;129;01min\u001B[39;00m kw_:\n\u001B[0;32m   1075\u001B[0m     \u001B[38;5;28;01mif\u001B[39;00m key \u001B[38;5;129;01mnot\u001B[39;00m \u001B[38;5;129;01min\u001B[39;00m allowed_keys:\n\u001B[1;32m-> 1076\u001B[0m         \u001B[38;5;28;01mraise\u001B[39;00m \u001B[38;5;167;01mValueError\u001B[39;00m(\n\u001B[0;32m   1077\u001B[0m             \u001B[38;5;124m\"\u001B[39m\u001B[38;5;124mkeyword \u001B[39m\u001B[38;5;132;01m%s\u001B[39;00m\u001B[38;5;124m is not recognized; valid keywords are \u001B[39m\u001B[38;5;132;01m%s\u001B[39;00m\u001B[38;5;124m\"\u001B[39m\n\u001B[0;32m   1078\u001B[0m             \u001B[38;5;241m%\u001B[39m (key, allowed_keys))\n\u001B[0;32m   1079\u001B[0m kwtrans\u001B[38;5;241m.\u001B[39mupdate(kw_)\n\u001B[0;32m   1080\u001B[0m \u001B[38;5;28;01mreturn\u001B[39;00m kwtrans\n",
      "\u001B[1;31mValueError\u001B[0m: keyword grid_b is not recognized; valid keywords are ['size', 'width', 'color', 'tickdir', 'pad', 'labelsize', 'labelcolor', 'zorder', 'gridOn', 'tick1On', 'tick2On', 'label1On', 'label2On', 'length', 'direction', 'left', 'bottom', 'right', 'top', 'labelleft', 'labelbottom', 'labelright', 'labeltop', 'labelrotation', 'grid_agg_filter', 'grid_alpha', 'grid_animated', 'grid_antialiased', 'grid_clip_box', 'grid_clip_on', 'grid_clip_path', 'grid_color', 'grid_dash_capstyle', 'grid_dash_joinstyle', 'grid_dashes', 'grid_data', 'grid_drawstyle', 'grid_figure', 'grid_fillstyle', 'grid_gapcolor', 'grid_gid', 'grid_in_layout', 'grid_label', 'grid_linestyle', 'grid_linewidth', 'grid_marker', 'grid_markeredgecolor', 'grid_markeredgewidth', 'grid_markerfacecolor', 'grid_markerfacecoloralt', 'grid_markersize', 'grid_markevery', 'grid_mouseover', 'grid_path_effects', 'grid_picker', 'grid_pickradius', 'grid_rasterized', 'grid_sketch_params', 'grid_snap', 'grid_solid_capstyle', 'grid_solid_joinstyle', 'grid_transform', 'grid_url', 'grid_visible', 'grid_xdata', 'grid_ydata', 'grid_zorder', 'grid_aa', 'grid_c', 'grid_ds', 'grid_ls', 'grid_lw', 'grid_mec', 'grid_mew', 'grid_mfc', 'grid_mfcalt', 'grid_ms']"
     ]
    },
    {
     "data": {
      "text/plain": "<Figure size 2500x1000 with 2 Axes>",
      "image/png": "[encoded data removed]"
     },
     "metadata": {},
     "output_type": "display_data"
    }
   ],
   "source": [
    "msno.matrix(train_events, color=(0.3,0.3,0.5))"
   ]
  },
  {
   "cell_type": "markdown",
   "metadata": {},
   "source": [
    "As we can see, \n",
    "\n",
    "- There is a fraction of the series with incomplete labelling of sleeping/wakening events. \n",
    "- As we can see from the diagrams, the event labelling for such series is somewhat shrinked by certain dates.\n",
    "- Another insight is, the % of missing data in *step* and *timestamp* attributes is quite high (*33.93%*). \n",
    "\n",
    "It makes it really unproductive to attempt to impute such missing values with any synthetical approach as it would introduce the type 2 noise in our dataset. If we do not find the logically determinant way of filling the missing values, it  would be better to shrink the incompletely labelled series from the training set exposed to the ML experiments down the road.\n",
    "\n",
    "Let's look at the training events deeper to understand the impact of the shrinked labelling for some of the time series."
   ]
  },
  {
   "cell_type": "markdown",
   "metadata": {},
   "source": [
    "## <div style=\"font-size:20px;text-align:center;color:black;border-bottom:5px #0026d6 solid;padding-bottom:3%\">Missing Values Review: Train Series Data</div>\n",
    "\n",
    "Let's review the spread of the missing values in the train series data."
   ]
  },
  {
   "cell_type": "code",
   "execution_count": null,
   "metadata": {
    "_kg_hide-input": true,
    "execution": {
     "iopub.execute_input": "2023-10-04T10:54:06.420383Z",
     "iopub.status.busy": "2023-10-04T10:54:06.41966Z",
     "iopub.status.idle": "2023-10-04T10:54:14.461448Z",
     "shell.execute_reply": "2023-10-04T10:54:14.460362Z",
     "shell.execute_reply.started": "2023-10-04T10:54:06.420345Z"
    },
    "ExecuteTime": {
     "start_time": "2023-10-17T16:04:27.458341800Z"
    }
   },
   "outputs": [],
   "source": [
    "for col in train_series.columns:\n",
    "    msg = 'column: {:>10}\\t Percent of NaN value: {:.2f}%'.format(col,100*(train_series[col].isnull().sum()/train_series[col].shape[0]))\n",
    "    PrintColor(f\"\\n---> {msg}\");\n",
    "    #print(msg)"
   ]
  },
  {
   "cell_type": "markdown",
   "metadata": {},
   "source": [
    "We find that there are no missing values in the train series data (accelerometer-based time series)."
   ]
  },
  {
   "cell_type": "markdown",
   "metadata": {},
   "source": [
    "## <div style=\"font-size:20px;text-align:center;color:black;border-bottom:5px #0026d6 solid;padding-bottom:3%\">Labelling Coverage for Train Series Data</div>\n",
    "\n",
    "Let's review how many seires are fully labelled with the events."
   ]
  },
  {
   "cell_type": "code",
   "execution_count": null,
   "metadata": {
    "_kg_hide-input": true,
    "execution": {
     "iopub.execute_input": "2023-10-04T10:54:14.463691Z",
     "iopub.status.busy": "2023-10-04T10:54:14.46269Z",
     "iopub.status.idle": "2023-10-04T10:54:14.509609Z",
     "shell.execute_reply": "2023-10-04T10:54:14.50852Z",
     "shell.execute_reply.started": "2023-10-04T10:54:14.463653Z"
    },
    "ExecuteTime": {
     "start_time": "2023-10-17T16:04:27.460343600Z"
    }
   },
   "outputs": [],
   "source": [
    "# base statistics\n",
    "train_events.describe(include='all')"
   ]
  },
  {
   "cell_type": "markdown",
   "metadata": {},
   "source": [
    "We find that\n",
    "- There are *277* unique series in the train events (labels) file\n",
    "- The length of the series ranges from *1 to 84*  nights, with the median to be *14* nights and the average length to be around *15* nights\n",
    "- The observations that collected series data were between *'2017-08-05 22:44:00'* and *'2019-07-05 05:33:00'*, UTC \n",
    "- The series with the most labelled events has *id = '78569a801a38'*\n",
    "- There are NaN values in the *step* column, which means that we can not use those instances for generating the label\n",
    "- It may sound we will have to choose only those series that do not have any missing steps events\n",
    "\n",
    "Now, let's visualize how many training series have full coverage with event labelling"
   ]
  },
  {
   "cell_type": "code",
   "execution_count": null,
   "metadata": {
    "_kg_hide-input": true,
    "execution": {
     "iopub.execute_input": "2023-10-04T10:54:14.511745Z",
     "iopub.status.busy": "2023-10-04T10:54:14.511068Z",
     "iopub.status.idle": "2023-10-04T10:54:16.154999Z",
     "shell.execute_reply": "2023-10-04T10:54:16.153944Z",
     "shell.execute_reply.started": "2023-10-04T10:54:14.511703Z"
    },
    "ExecuteTime": {
     "end_time": "2023-10-17T16:04:27.464342300Z",
     "start_time": "2023-10-17T16:04:27.462342600Z"
    }
   },
   "outputs": [],
   "source": [
    "series_steps = train_events.groupby(['series_id'])['step'].apply(lambda x: x.isnull().any())\n",
    "\n",
    "frame = {'series_id': series_steps.index,\n",
    "         'has_missing_labels': series_steps}\n",
    " \n",
    "# Creating DataFrame by passing Dictionary\n",
    "agg_data = pd.DataFrame(frame)\n",
    "\n",
    "dfg = agg_data['has_missing_labels'].value_counts().reset_index()\n",
    "dfg.columns = ['has_missing_labels', 'number_of_series']\n",
    "fig = px.bar(dfg, x='has_missing_labels', y='number_of_series', \n",
    "             title='Series with and without missing event labels',\n",
    "            color_discrete_sequence=px.colors.qualitative.Prism) \n",
    "fig.show()"
   ]
  },
  {
   "cell_type": "markdown",
   "metadata": {},
   "source": [
    "We find that only *37* series out of *277* have fully labelled training events. Such series are going to be used in the model training down the road.\n",
    "\n",
    "Let's display the ids of series with fully labelled events."
   ]
  },
  {
   "cell_type": "code",
   "execution_count": null,
   "metadata": {
    "_kg_hide-input": true,
    "execution": {
     "iopub.execute_input": "2023-10-04T10:54:16.157051Z",
     "iopub.status.busy": "2023-10-04T10:54:16.156372Z",
     "iopub.status.idle": "2023-10-04T10:54:16.163656Z",
     "shell.execute_reply": "2023-10-04T10:54:16.162499Z",
     "shell.execute_reply.started": "2023-10-04T10:54:16.157009Z"
    },
    "ExecuteTime": {
     "start_time": "2023-10-17T16:04:27.464342300Z"
    }
   },
   "outputs": [],
   "source": [
    "no_NaN_series = series_steps[~series_steps].index.tolist()\n",
    "\n",
    "PrintColor(f\"\\n---> Displaing the ids of series with fully labelled events:\\n\");\n",
    "pprint(no_NaN_series, indent = 10, width = 50);\n",
    "\n",
    "# print(no_NaN_series)"
   ]
  },
  {
   "cell_type": "markdown",
   "metadata": {},
   "source": [
    "## <div style=\"font-size:20px;text-align:center;color:black;border-bottom:5px #0026d6 solid;padding-bottom:3%\">Data Inspection Summary</div>\n",
    "\n",
    "Below are the major takeaways from our data inspection drill\n",
    "\n",
    "- Train events csv fill shall be used to generate the label data for train series provided as a parquet file.\n",
    "- The envisioned ML approaches is to tackle either a binary (Awake/Onset) or multiclass (namely, 3-class) event classification problem (with target classess to be Awake, Onset, and Other).\n",
    "- The significant fraction of the series provided in the training set has incomplete labelling; therefore, one of the approaches to training the ML/DL models for this contest is to prepare a training subset with completely labelled series only.\n",
    "- We should have a look at individual series to get deeper-level insights about the data. The focus should be on *37* series with complete event labelling data we identified above.\n",
    "\n",
    "<div class=\"alert alert-block alert-info\"> ✅ <b>Note</b>: It was Carl McBride Ellis who first paid attention to the issue with incomplete labelling for some of the series within this dataset. He put together a <a href=\"https://www.kaggle.com/datasets/carlmcbrideellis/zzzs-lightweight-training-dataset-target\" target=\"_blank\">smaller dataset</a> with 35 well-formed series to use in model training down the road.\n",
    "</div>"
   ]
  },
  {
   "cell_type": "markdown",
   "metadata": {},
   "source": [
    "# <div style=\"color:white;background-color:#1d1545;padding:3%;border-radius:50px 50px;font-size:1em;text-align:center\">Deep Dive into Training Events</div>\n",
    "\n",
    "Let's dive deeper into training events data to mine more insights.\n",
    "\n",
    "## <div style=\"font-size:20px;text-align:center;color:black;border-bottom:5px #0026d6 solid;padding-bottom:3%\">General Summary for Train Events Data</div>"
   ]
  },
  {
   "cell_type": "code",
   "execution_count": null,
   "metadata": {
    "_kg_hide-input": true,
    "execution": {
     "iopub.execute_input": "2023-10-04T10:54:16.166062Z",
     "iopub.status.busy": "2023-10-04T10:54:16.165129Z",
     "iopub.status.idle": "2023-10-04T10:54:16.274595Z",
     "shell.execute_reply": "2023-10-04T10:54:16.273372Z",
     "shell.execute_reply.started": "2023-10-04T10:54:16.166022Z"
    },
    "ExecuteTime": {
     "end_time": "2023-10-17T16:04:27.477343900Z",
     "start_time": "2023-10-17T16:04:27.466345800Z"
    }
   },
   "outputs": [],
   "source": [
    "# inspired by https://www.kaggle.com/code/rishabh15virgo/cmi-dss-first-impression-data-understanding-eda\n",
    "def summarize_dataframe(df):\n",
    "    summary_df = pd.DataFrame(df.dtypes, columns=['dtypes'])\n",
    "    summary_df['missing#'] = df.isna().sum().values*100\n",
    "    summary_df['missing%'] = (df.isna().sum().values*100)/len(df)\n",
    "    summary_df['uniques'] = df.nunique().values\n",
    "    summary_df['count'] = df.count().values\n",
    "    #sum['skew'] = df.skew().values\n",
    "    desc = pd.DataFrame(df.describe().T)\n",
    "    summary_df['min'] = desc['min']\n",
    "    summary_df['max'] = desc['max']\n",
    "    summary_df['mean'] = desc['mean']\n",
    "    return summary_df\n",
    "\n",
    "summarize_dataframe(train_events).style.background_gradient(cmap='Purples')"
   ]
  },
  {
   "cell_type": "markdown",
   "metadata": {},
   "source": [
    "## <div style=\"font-size:20px;text-align:center;color:black;border-bottom:5px #0026d6 solid;padding-bottom:3%\">Training Events Density</div>\n",
    "\n",
    "Let's visualize the density of the train_series. In fact, it will draw the availability matrix for the events across the series and dates (1: available; 0: NaN).\n",
    "\n",
    "This visualization helps to digest the periods during which events (*'onset'* and *'wakeup'*) have been recorded.\n",
    "\n",
    "We are going to engage with clustermap for this visualization, where the y-axis represents individual time series clustered based on their data collection similarity."
   ]
  },
  {
   "cell_type": "code",
   "execution_count": null,
   "metadata": {
    "_kg_hide-input": true,
    "execution": {
     "iopub.execute_input": "2023-10-04T10:54:16.276891Z",
     "iopub.status.busy": "2023-10-04T10:54:16.276127Z",
     "iopub.status.idle": "2023-10-04T10:54:17.844979Z",
     "shell.execute_reply": "2023-10-04T10:54:17.843689Z",
     "shell.execute_reply.started": "2023-10-04T10:54:16.27686Z"
    },
    "ExecuteTime": {
     "start_time": "2023-10-17T16:04:27.469344700Z"
    }
   },
   "outputs": [],
   "source": [
    "# Pivot the DataFrame to create df_availability\n",
    "tr_ev = train_events.copy()\n",
    "tr_ev['dates'] = tr_ev['timestamp'].dt.date\n",
    "df_availability = tr_ev.pivot_table(columns='dates', index='series_id', values='step', aggfunc='count')\n",
    "\n",
    "# Fill NA values with 0\n",
    "df_availability = (~df_availability.isna()).fillna(0).astype('int')\n",
    "\n",
    "# Plotting the clustered heatmap\n",
    "sns.clustermap(df_availability, col_cluster=False, figsize=(12, 8))\n",
    "\n",
    "# TODO: re-implement for plotly per\n",
    "# https://stackoverflow.com/questions/66547583/plotly-clustered-heatmap-with-dendrogram-python\n",
    "# https://plotly.com/python/clustergram/#default-clustergram\n",
    "# https://plotly.com/python/dendrogram/"
   ]
  },
  {
   "cell_type": "markdown",
   "metadata": {},
   "source": [
    "Upon examining the clustermap, it is evident that the majority of the series tend to have a duration spanning 20 to 30 days (see  also below for the night-based insights into the series durations).\n",
    "\n",
    "The periods of time during which data have been collected are sparsely distributed across the years 2017 to 2019.\n",
    "\n",
    "Whenever timestamps are discussed, it is essential to note the relations between \n",
    "- *steps* and *timestamps*\n",
    "- impact of the sparsity of the series data on the usability of time-driven features\n",
    "\n",
    "As per the description of the dataset, *step* is the basis for the evaluation of submitted predictions. *timestamps*, in turn, is generally used as an input for features (provided you tackle the prediction problem in the tabular classification setup).\n",
    "\n",
    "Since the training seria samples are very sparse, it could look like that only hourly/minute trends could make some sense for the model. Trends of higher scale (daily, weekly etc.) would be misleading for the model to train in turn.\n",
    "\n",
    "<div class=\"alert alert-block alert-info\"> ✅ <b>Note</b>: More advanced time series insights on <i>enmo/anglez</i> are collected in a <a href=\"https://www.kaggle.com/code/gvyshnya/plotting-big-data-sleeping-series\" target=\"_blank\">separate notebook</a>. More specifically, it will contain the results of the clustering experiments to group series by the statistical trends displayed by <i>enmo/anglez</i> aggregated values.\n",
    "</div>"
   ]
  },
  {
   "cell_type": "code",
   "execution_count": null,
   "metadata": {
    "_kg_hide-input": true,
    "_kg_hide-output": true,
    "execution": {
     "iopub.execute_input": "2023-10-04T10:54:17.84667Z",
     "iopub.status.busy": "2023-10-04T10:54:17.846354Z",
     "iopub.status.idle": "2023-10-04T10:54:17.974679Z",
     "shell.execute_reply": "2023-10-04T10:54:17.973522Z",
     "shell.execute_reply.started": "2023-10-04T10:54:17.846642Z"
    },
    "ExecuteTime": {
     "start_time": "2023-10-17T16:04:27.471344100Z"
    }
   },
   "outputs": [],
   "source": [
    "del tr_ev, df_availability\n",
    "\n",
    "# Returns the number of\n",
    "# objects it has collected\n",
    "# and deallocated\n",
    "collected = gc.collect()\n",
    " \n",
    "# Prints Garbage collector\n",
    "# as 0 object\n",
    "print(\"Garbage collector: collected\",\n",
    "          \"%d objects.\" % collected)# Importing gc module"
   ]
  },
  {
   "cell_type": "markdown",
   "metadata": {},
   "source": [
    "## <div style=\"font-size:20px;text-align:center;color:black;border-bottom:5px #0026d6 solid;padding-bottom:3%\">Balance Between Onset and Wakeup Events</div>\n",
    "\n",
    "Let's now visualize the frequency of *onset* and *wakeup* events by hours in a day.\n",
    "\n",
    "In the context, *onset* and *wakeup* events signify the times people go to sleep and wake up, respectively.\n",
    "\n",
    "Understanding the temporal patters in manifesting these events can draw critical insights into the sleeping behavior."
   ]
  },
  {
   "cell_type": "code",
   "execution_count": null,
   "metadata": {
    "_kg_hide-input": true,
    "execution": {
     "iopub.execute_input": "2023-10-04T10:54:17.976975Z",
     "iopub.status.busy": "2023-10-04T10:54:17.976528Z",
     "iopub.status.idle": "2023-10-04T10:54:18.098632Z",
     "shell.execute_reply": "2023-10-04T10:54:18.097518Z",
     "shell.execute_reply.started": "2023-10-04T10:54:17.976933Z"
    },
    "ExecuteTime": {
     "start_time": "2023-10-17T16:04:27.473344200Z"
    }
   },
   "outputs": [],
   "source": [
    "df_onset = train_events[train_events['event'] == 'onset']\n",
    "df_wakeup = train_events[train_events['event'] == 'wakeup']\n",
    "\n",
    "fig = make_subplots(rows=1, cols=2, subplot_titles=('<b>Hourly Distr. of Onset Events</b>',\n",
    "                                                    '<b>Hourly Distr. of Wakeup Events</b>',\n",
    "                                                   ))\n",
    "\n",
    "fig.add_trace(go.Histogram(x=df_onset['hour'].dropna(), nbinsx=24), row=1, col=1)\n",
    "fig.add_trace(go.Histogram(x=df_wakeup['hour'].dropna(), nbinsx=24), row=1, col=2)\n",
    "                                \n",
    "# Update visual layout\n",
    "fig.update_layout(\n",
    "    showlegend=False,\n",
    "    width=600,\n",
    "    height=400,\n",
    "    autosize=False,\n",
    "    margin=dict(t=15, b=0, l=5, r=5),\n",
    "    template=\"plotly_white\",\n",
    "    colorway=px.colors.qualitative.Prism ,\n",
    ")\n",
    "\n",
    "# update font size at the axes\n",
    "fig.update_coloraxes(colorbar_tickfont_size=10)\n",
    "# Update font in the titles: Apparently subplot titles are annotations (Subplot font size is hardcoded to 16pt · Issue #985)\n",
    "fig.update_annotations(font_size=12)\n",
    "# Reduce opacity\n",
    "fig.update_traces(opacity=0.75)\n",
    "\n",
    "fig.show()"
   ]
  },
  {
   "cell_type": "markdown",
   "metadata": {},
   "source": [
    "In the resulting histograms, the x-axis denotes the 24-hour timeline, and the y-axis represents the frequency of *onset* and *wakeup* events.\n",
    "\n",
    "From the charts displayed, it is evident that the majority of individuals whose sleeping series are represented in the training dataset tend to \n",
    "- wake up between 6-8 am;\n",
    "- go to sleep around 8-10 pm.\n",
    "\n",
    "Such a temporal pattern matches well with general intuition as well as provides a useful baseline for further analyses.\n",
    "\n",
    "Let's now review the balance between the labelled *onset* and *wakeup* events in the training dataset."
   ]
  },
  {
   "cell_type": "code",
   "execution_count": null,
   "metadata": {
    "_kg_hide-input": true,
    "execution": {
     "iopub.execute_input": "2023-10-04T10:54:18.101699Z",
     "iopub.status.busy": "2023-10-04T10:54:18.101326Z",
     "iopub.status.idle": "2023-10-04T10:54:18.223933Z",
     "shell.execute_reply": "2023-10-04T10:54:18.222745Z",
     "shell.execute_reply.started": "2023-10-04T10:54:18.101671Z"
    },
    "ExecuteTime": {
     "start_time": "2023-10-17T16:04:27.475344300Z"
    }
   },
   "outputs": [],
   "source": [
    "agg_data = train_events[[\"event\", \"hour\"]].groupby([\"event\", \"hour\"]).size().reset_index(name=\"count\")\n",
    "agg_data[\"hour\"] = agg_data[\"hour\"].astype(int)\n",
    "# define figure element\n",
    "fig = px.sunburst(\n",
    "    agg_data,\n",
    "    values='count',\n",
    "    path=[\"event\", \"hour\"],\n",
    "    title=\"Events by hours in a day\",\n",
    "    color=\"event\",\n",
    "    height=600,\n",
    "    color_discrete_sequence=px.colors.qualitative.Prism,\n",
    "    #color_continuous_scale=px.colors.sequential.Viridis\n",
    ")\n",
    "# display the figure\n",
    "fig.show()"
   ]
  },
  {
   "cell_type": "markdown",
   "metadata": {},
   "source": [
    "As we can see, the number of *onset* and *wakeup* events is quite balanced in the training dataset, which indicates no labelling errors on the series where labels were generated (either fully or parcially)."
   ]
  },
  {
   "cell_type": "markdown",
   "metadata": {},
   "source": [
    "## <div style=\"font-size:20px;text-align:center;color:black;border-bottom:5px #0026d6 solid;padding-bottom:3%\">Event Minute Patterns</div>\n",
    "\n",
    "Let's review the distribution of *onset/wakeup* events within the minutes of 15-min intervals (if we split the entire timeline of the training series into such 15-min intervals, it would be interesting to search for any regular pattern in the event distribution)."
   ]
  },
  {
   "cell_type": "code",
   "execution_count": null,
   "metadata": {
    "_kg_hide-input": true,
    "execution": {
     "iopub.execute_input": "2023-10-04T11:07:47.674376Z",
     "iopub.status.busy": "2023-10-04T11:07:47.673654Z",
     "iopub.status.idle": "2023-10-04T11:07:48.245795Z",
     "shell.execute_reply": "2023-10-04T11:07:48.244725Z",
     "shell.execute_reply.started": "2023-10-04T11:07:47.674328Z"
    },
    "ExecuteTime": {
     "start_time": "2023-10-17T16:04:27.477343900Z"
    }
   },
   "outputs": [],
   "source": [
    "mn_train_events = pd.read_csv(root_path + '/kaggle/input/child-mind-institute-detect-sleep-states/train_events.csv')\n",
    "mn_train_events = mn_train_events.loc[~mn_train_events['timestamp'].isna()] # drop NA\n",
    "\n",
    "df_onset_mn = mn_train_events[mn_train_events['event'] == 'onset']\n",
    "df_wakeup_mn = mn_train_events[mn_train_events['event'] == 'wakeup']\n",
    "\n",
    "min15_onset = df_onset_mn['timestamp'].str[-10:-8].astype('int32')%15 # minute of event, in 15 min blocks\n",
    "min15_wakeup = df_wakeup_mn['timestamp'].str[-10:-8].astype('int32')%15 # minute of event, in 15 min blocks\n",
    "\n",
    "frame1 = {'interval': min15_onset.index,\n",
    "         'onset_minute': min15_onset}\n",
    " \n",
    "# Creating DataFrame by passing Dictionary\n",
    "agg_data_onsets = pd.DataFrame(frame1)\n",
    "\n",
    "frame2 = {'interval': min15_wakeup.index,\n",
    "         'wakeup_minute': min15_wakeup}\n",
    " \n",
    "# Creating DataFrame by passing Dictionary\n",
    "agg_data_wakeups = pd.DataFrame(frame2)\n",
    "\n",
    "\n",
    "#h=plt.hist(min15, bins=50)\n",
    "#plt.show()\n",
    "\n",
    "fig = make_subplots(rows=1, cols=2, subplot_titles=('<b>Distr. of Onset Events in 15-min intervals</b>',\n",
    "                                                    '<b>Distr. of Wakeup Events in 15-min intervals</b>',\n",
    "                                                   ))\n",
    "\n",
    "fig.add_trace(go.Histogram(x=agg_data_onsets['onset_minute'].dropna(), nbinsx=24), row=1, col=1)\n",
    "fig.add_trace(go.Histogram(x=agg_data_wakeups['wakeup_minute'].dropna(), nbinsx=24), row=1, col=2)\n",
    "                                \n",
    "# Update visual layout\n",
    "fig.update_layout(\n",
    "    showlegend=False,\n",
    "    width=700,\n",
    "    height=400,\n",
    "    autosize=False,\n",
    "    margin=dict(t=15, b=0, l=5, r=5),\n",
    "    template=\"plotly_white\",\n",
    "    colorway=px.colors.qualitative.Prism ,\n",
    ")\n",
    "\n",
    "# update font size at the axes\n",
    "fig.update_coloraxes(colorbar_tickfont_size=10)\n",
    "# Update font in the titles: Apparently subplot titles are annotations (Subplot font size is hardcoded to 16pt · Issue #985)\n",
    "fig.update_annotations(font_size=12)\n",
    "# Reduce opacity\n",
    "fig.update_traces(opacity=0.75)\n",
    "\n",
    "fig.show()\n"
   ]
  },
  {
   "cell_type": "markdown",
   "metadata": {},
   "source": [
    "We can observe a strange pattern in the event records, if they are looked up on 15-min intervals.\n",
    "\n",
    "- They are always on exact minutes, maybe due to the manual classification/labelling  leading to limited precision\n",
    "- They demonstrate repeatable patterns in 15 minutes cycle\n",
    "- The most of events (both *onset* and *wakeup*) happen on 0th, 3rd, 7th, and 11th minutes of 15-min intervals (0 stands for the first minute of the interval, and 14 stands for the last one)\n",
    "- The distribution and period of minute differ by event type, if looking at the more granular level \n",
    "\n",
    "Additional note for *wakeups*, we can see almost regularly equal number of events in every minute category within the 4 event frequency buckets there\n",
    "- the most frequent event minutes (0, 3, 7, 11 minutes)\n",
    "- second the most frequent event minutes (2, 6, 10, 14 minutes) - they stay 1 min behind the minutes in the most frequent bucket, btw\n",
    "- modereate events bucket minutes (4, 8, 12 minutes)\n",
    "- least frequent event bucket (1, 5, 9, 13 minutes)\n",
    "\n",
    "It is hard to expain the rationale behind the patterns observed. Nor is it clear if it is possible to use such a discovery in the ML solutions to predict the sleeping events down the road.\n",
    "\n",
    "<div class=\"alert alert-block alert-info\"> ✅ <b>Note</b>: Such a strange phenomenon has been first mentioned in one of the <a href=\"https://www.kaggle.com/competitions/child-mind-institute-detect-sleep-states/discussion/444374\" target=\"_blank\">discussion threads</a>.</div>"
   ]
  },
  {
   "cell_type": "code",
   "execution_count": null,
   "metadata": {
    "_kg_hide-input": true,
    "_kg_hide-output": true,
    "execution": {
     "iopub.execute_input": "2023-10-04T10:54:18.268352Z",
     "iopub.status.busy": "2023-10-04T10:54:18.26804Z",
     "iopub.status.idle": "2023-10-04T10:54:18.397724Z",
     "shell.execute_reply": "2023-10-04T10:54:18.396617Z",
     "shell.execute_reply.started": "2023-10-04T10:54:18.268324Z"
    },
    "ExecuteTime": {
     "start_time": "2023-10-17T16:04:27.480345300Z"
    }
   },
   "outputs": [],
   "source": [
    "del mn_train_events, df_onset_mn, df_wakeup_mn, agg_data_onsets, agg_data_wakeups, frame1, frame2\n",
    "\n",
    "# Returns the number of\n",
    "# objects it has collected\n",
    "# and deallocated\n",
    "collected = gc.collect()\n",
    " \n",
    "# Prints Garbage collector\n",
    "# as 0 object\n",
    "print(\"Garbage collector: collected\",\n",
    "          \"%d objects.\" % collected)# Importing gc module"
   ]
  },
  {
   "cell_type": "markdown",
   "metadata": {},
   "source": [
    "## <div style=\"font-size:20px;text-align:center;color:black;border-bottom:5px #0026d6 solid;padding-bottom:3%\">Sleep Duration</div>\n",
    "\n",
    "Let's review how many hours the people observed in the training set sleep in average."
   ]
  },
  {
   "cell_type": "code",
   "execution_count": null,
   "metadata": {
    "_kg_hide-input": true,
    "execution": {
     "iopub.execute_input": "2023-10-04T10:54:18.40295Z",
     "iopub.status.busy": "2023-10-04T10:54:18.402071Z",
     "iopub.status.idle": "2023-10-04T10:54:18.469606Z",
     "shell.execute_reply": "2023-10-04T10:54:18.468512Z",
     "shell.execute_reply.started": "2023-10-04T10:54:18.402915Z"
    },
    "ExecuteTime": {
     "start_time": "2023-10-17T16:04:27.482342700Z"
    }
   },
   "outputs": [],
   "source": [
    "# inspired by https://www.kaggle.com/code/alinasri/sleep-data-analysis-some-eda\n",
    "\n",
    "# Lets focus on non null rows of the training events only\n",
    "mask_nonull= (~train_events['step'].isnull()) & (~train_events['timestamp'].isnull()) \n",
    "train_events_nonull = train_events[mask_nonull]\n",
    "\n",
    "# Group by 'series_id' and calculate sleep duration for each night\n",
    "sleep_duration_df = train_events_nonull.groupby([train_events_nonull['series_id'], train_events_nonull['night']])['timestamp'].agg(['min', 'max']).reset_index()\n",
    "sleep_duration_df = sleep_duration_df.rename(columns={'min': 'onset', 'max': 'wakeup'})\n",
    "sleep_duration_df['sleep_duration'] = ((sleep_duration_df['wakeup'] - sleep_duration_df['onset']).dt.seconds / 3600).round(0)\n",
    "\n",
    "dfg = sleep_duration_df['sleep_duration'].value_counts().reset_index()\n",
    "dfg.columns = ['sleep_duration', 'number_of_observations']\n",
    "fig = px.bar(dfg, x='sleep_duration', y='number_of_observations', \n",
    "             title='Sleep Duration, Training seria (hours)',\n",
    "            color_discrete_sequence=px.colors.qualitative.Prism) \n",
    "fig.show()"
   ]
  },
  {
   "cell_type": "markdown",
   "metadata": {},
   "source": [
    "We can see that the most of the training observations (within the series-to-nights dimensions) demonstrated the sleep duration to be between 8 and 10 h per night (day), with the sleeping time of 9 h per day to be the most frequent value. "
   ]
  },
  {
   "cell_type": "markdown",
   "metadata": {},
   "source": [
    "## <div style=\"font-size:20px;text-align:center;color:black;border-bottom:5px #0026d6 solid;padding-bottom:3%\">Nights Data Insights</div>"
   ]
  },
  {
   "cell_type": "code",
   "execution_count": null,
   "metadata": {
    "_kg_hide-input": true,
    "execution": {
     "iopub.execute_input": "2023-10-04T10:54:18.472216Z",
     "iopub.status.busy": "2023-10-04T10:54:18.47119Z",
     "iopub.status.idle": "2023-10-04T10:54:18.614644Z",
     "shell.execute_reply": "2023-10-04T10:54:18.613134Z",
     "shell.execute_reply.started": "2023-10-04T10:54:18.472177Z"
    },
    "ExecuteTime": {
     "end_time": "2023-10-17T16:04:27.492344400Z",
     "start_time": "2023-10-17T16:04:27.484344400Z"
    }
   },
   "outputs": [],
   "source": [
    "nights_in_series = train_events.groupby('series_id')['night'].max()\n",
    "\n",
    "frame = {'series_id': nights_in_series.index,\n",
    "         'number_of_nights_in_seria': nights_in_series}\n",
    " \n",
    "# Creating DataFrame by passing Dictionary\n",
    "agg_data = pd.DataFrame(frame)\n",
    "\n",
    "fig = px.histogram(agg_data, x=\"number_of_nights_in_seria\", marginal=\"rug\",\n",
    "                   title='Distribution of Nights per Series in Training Events',\n",
    "                   color_discrete_sequence=px.colors.qualitative.Prism)\n",
    "fig.show()"
   ]
  },
  {
   "cell_type": "markdown",
   "metadata": {},
   "source": [
    "We find that\n",
    "\n",
    "- the majority of the series has *20-29* nights in it\n",
    "- the second 'cluster' contains the series with *30-39* nights in it\n",
    "- the tails of the distribution are minor; \n",
    "- we can indicate there are exceptionally long ('outlier') series with *84* and *62* nights, respectively"
   ]
  },
  {
   "cell_type": "markdown",
   "metadata": {},
   "source": [
    "## <div style=\"font-size:20px;text-align:center;color:black;border-bottom:5px #0026d6 solid;padding-bottom:3%\">Steps Data Insights</div>"
   ]
  },
  {
   "cell_type": "code",
   "execution_count": null,
   "metadata": {
    "_kg_hide-input": true,
    "execution": {
     "iopub.execute_input": "2023-10-04T10:54:18.617077Z",
     "iopub.status.busy": "2023-10-04T10:54:18.616489Z",
     "iopub.status.idle": "2023-10-04T10:54:38.669489Z",
     "shell.execute_reply": "2023-10-04T10:54:38.668671Z",
     "shell.execute_reply.started": "2023-10-04T10:54:18.617047Z"
    },
    "ExecuteTime": {
     "start_time": "2023-10-17T16:04:27.486343900Z"
    }
   },
   "outputs": [],
   "source": [
    "min_steps_in_series = train_series.groupby('series_id')['step'].min()\n",
    "max_steps_in_series = train_series.groupby('series_id')['step'].max()\n",
    "\n",
    "frame1 = {'series_id': min_steps_in_series.index,\n",
    "         'min_number_of_steps_in_seria': min_steps_in_series}\n",
    "\n",
    "frame2 = {'series_id': max_steps_in_series.index,\n",
    "         'max_number_of_steps_in_seria': max_steps_in_series}\n",
    " \n",
    "# Creating DataFrames by passing Dictionary\n",
    "min_steps_df = pd.DataFrame(frame1)\n",
    "max_steps_df = pd.DataFrame(frame2)\n",
    "\n",
    "min_steps_df.reset_index(drop = True, inplace = True)\n",
    "max_steps_df.reset_index(drop = True, inplace = True)\n",
    "\n",
    "agg_data = pd.merge(min_steps_df, max_steps_df, how='inner', on=['series_id'])\n",
    "agg_data['steps_number'] = agg_data['max_number_of_steps_in_seria'] - agg_data['min_number_of_steps_in_seria']\n",
    "\n",
    "fig = px.histogram(agg_data, x=\"steps_number\", marginal=\"rug\",\n",
    "                   title='Distribution of Steps per Series in Training Series',\n",
    "                   color_discrete_sequence=px.colors.qualitative.Prism)\n",
    "fig.show()"
   ]
  },
  {
   "cell_type": "markdown",
   "metadata": {},
   "source": [
    "We can see that the distribution of steps follows the general distributions by nights, more or less. Every step corresponds to one instance of the accelerometer measurements that are recorded every 5 s (if no errors/breaks happen)."
   ]
  },
  {
   "cell_type": "markdown",
   "metadata": {},
   "source": [
    "# <div style=\"color:white;background-color:#1d1545;padding:3%;border-radius:50px 50px;font-size:1em;text-align:center\">Timestamp-Related Insights</div>\n",
    "\n",
    "In this chapter, we are going to investigate several time-related issues as follows\n",
    "\n",
    "- Shall we keep the events and *enmo/anglez* series timestamps in local time zone time or in UTC?\n",
    "- What could be the effect of daylight time saving shifts on the series data?\n",
    "\n",
    "## <div style=\"font-size:20px;text-align:center;color:black;border-bottom:5px #0026d6 solid;padding-bottom:3%\">To UTC or not to UTC?</div>\n",
    "\n",
    "Since the timestamps in both the series and events data are presented with the local time zone offsets, the real question is whether it makes sense to keep the event time in the local time zones or cast them all to UTC. This section is going to visualize some TZ-related patterns.  \n",
    "\n",
    "<div class=\"alert alert-block alert-info\"> ✅ <b>Note</b>: It was Carl McBride Ellis who first paid attention to the UTC vs. local time zone issues. He put together <a href=\"https://www.kaggle.com/code/carlmcbrideellis/zzzs-eda-utc-or-not-utc\" target=\"_blank\">a quick notebook</a> to spot the problem. We are going to elevate it to the next level by visualizing the patterns.\n",
    "</div>"
   ]
  },
  {
   "cell_type": "code",
   "execution_count": null,
   "metadata": {
    "_kg_hide-input": true,
    "execution": {
     "iopub.execute_input": "2023-10-04T10:54:38.672973Z",
     "iopub.status.busy": "2023-10-04T10:54:38.672646Z",
     "iopub.status.idle": "2023-10-04T10:54:38.960385Z",
     "shell.execute_reply": "2023-10-04T10:54:38.959287Z",
     "shell.execute_reply.started": "2023-10-04T10:54:38.672945Z"
    },
    "ExecuteTime": {
     "start_time": "2023-10-17T16:04:27.488344Z"
    }
   },
   "outputs": [],
   "source": [
    "ground_truth = pd.read_csv(root_path + \"/kaggle/input/child-mind-institute-detect-sleep-states/train_events.csv\")\n",
    "\n",
    "# get event counts in UTC\n",
    "df = ground_truth.copy()\n",
    "df[\"timestamp\"] = pd.to_datetime(df[\"timestamp\"],utc=True)\n",
    "df[\"hour\"] = df[\"timestamp\"].dt.hour\n",
    "# filter for mornings and afternons\n",
    "df_morning   = df.loc[df[\"hour\"] <= 12].copy()\n",
    "df_afternoon = df.loc[df[\"hour\"]  > 12].copy()\n",
    "\n",
    "utc_stat = {\n",
    "    \"label\": \"UTC\",\n",
    "    \"morning_wakeups\": df_morning.loc[df_morning[\"event\"] == \"wakeup\"].shape[0],\n",
    "    \"morning_onsets\": df_morning.loc[df_morning[\"event\"] == \"onset\"].shape[0],\n",
    "    \"afternoon_onsets\": df_afternoon.loc[df_afternoon[\"event\"] == \"onset\"].shape[0],\n",
    "    \"afternoon_wakeups\": df_afternoon.loc[df_afternoon[\"event\"] == \"wakeup\"].shape[0]\n",
    "}\n",
    "\n",
    "# get event counts in the local time zone time\n",
    "df = ground_truth.copy()\n",
    "df['timestamp'] = pd.to_datetime(df['timestamp']).apply(lambda t: t.tz_localize(None))\n",
    "df[\"hour\"] = df[\"timestamp\"].dt.hour\n",
    "# filter for mornings and afternons\n",
    "df_morning   = df.loc[df[\"hour\"] <= 12].copy()\n",
    "df_afternoon = df.loc[df[\"hour\"]  > 12].copy()\n",
    "\n",
    "local_tz_stat = {\n",
    "    \"label\": \"Local time\",\n",
    "    \"morning_wakeups\": df_morning.loc[df_morning[\"event\"] == \"wakeup\"].shape[0],\n",
    "    \"morning_onsets\": df_morning.loc[df_morning[\"event\"] == \"onset\"].shape[0],\n",
    "    \"afternoon_onsets\": df_afternoon.loc[df_afternoon[\"event\"] == \"onset\"].shape[0],\n",
    "    \"afternoon_wakeups\": df_afternoon.loc[df_afternoon[\"event\"] == \"wakeup\"].shape[0]\n",
    "}\n",
    "\n",
    "data = [utc_stat, local_tz_stat]\n",
    "df_stat = pd.DataFrame.from_dict(data)\n",
    "\n",
    "fig = make_subplots(rows=2, cols=2, subplot_titles=('<b>Morning Wakeups: UTC vs. Local time</b>',\n",
    "                                                    '<b>Morning Onsets: UTC vs. Local time</b>',\n",
    "                                                    '<b>Afternoon Onsets: UTC vs. Local time</b>',\n",
    "                                                    '<b>Afternoon Wakeups: UTC vs. Local time</b>'\n",
    "                                                   ))\n",
    "\n",
    "fig.add_trace(go.Bar(x=df_stat['label'], y=df_stat['morning_wakeups']), row=1, col=1)\n",
    "fig.add_trace(go.Bar(x=df_stat['label'], y=df_stat['morning_onsets']), row=1, col=2)\n",
    "fig.add_trace(go.Bar(x=df_stat['label'], y=df_stat['afternoon_onsets']), row=2, col=1)\n",
    "fig.add_trace(go.Bar(x=df_stat['label'], y=df_stat['afternoon_wakeups']), row=2, col=2)\n",
    "                                \n",
    "# Update visual layout\n",
    "fig.update_layout(\n",
    "    showlegend=False,\n",
    "    width=600,\n",
    "    height=400,\n",
    "    autosize=False,\n",
    "    margin=dict(t=15, b=0, l=5, r=5),\n",
    "    template=\"plotly_white\",\n",
    "    colorway=px.colors.qualitative.Prism ,\n",
    ")\n",
    "\n",
    "# update font size at the axes\n",
    "fig.update_coloraxes(colorbar_tickfont_size=10)\n",
    "# Update font in the titles: Apparently subplot titles are annotations (Subplot font size is hardcoded to 16pt · Issue #985)\n",
    "fig.update_annotations(font_size=12)\n",
    "# Reduce opacity\n",
    "fig.update_traces(opacity=0.75)\n",
    "\n",
    "fig.show()"
   ]
  },
  {
   "cell_type": "markdown",
   "metadata": {},
   "source": [
    "We can see that operating the events / series timestamps in the local time makes more sense from the logical standpoint as the number of wakeup/onset events in the morning and afternoon looks more intuitive."
   ]
  },
  {
   "cell_type": "code",
   "execution_count": null,
   "metadata": {
    "_kg_hide-input": true,
    "_kg_hide-output": true,
    "execution": {
     "iopub.execute_input": "2023-10-04T10:54:38.961881Z",
     "iopub.status.busy": "2023-10-04T10:54:38.961584Z",
     "iopub.status.idle": "2023-10-04T10:54:39.094701Z",
     "shell.execute_reply": "2023-10-04T10:54:39.093803Z",
     "shell.execute_reply.started": "2023-10-04T10:54:38.961848Z"
    },
    "ExecuteTime": {
     "start_time": "2023-10-17T16:04:27.489344200Z"
    }
   },
   "outputs": [],
   "source": [
    "del ground_truth, df, df_morning, df_afternoon, df_stat\n",
    "\n",
    "\n",
    "# Returns the number of\n",
    "# objects it has collected\n",
    "# and deallocated\n",
    "collected = gc.collect()\n",
    " \n",
    "# Prints Garbage collector\n",
    "# as 0 object\n",
    "print(\"Garbage collector: collected\",\n",
    "          \"%d objects.\" % collected)# Importing gc module"
   ]
  },
  {
   "cell_type": "markdown",
   "metadata": {},
   "source": [
    "# <div style=\"color:white;background-color:#1d1545;padding:3%;border-radius:50px 50px;font-size:1em;text-align:center\">Deep Dive into Series Data</div>\n",
    "\n",
    "## <div style=\"font-size:20px;text-align:center;color:black;border-bottom:5px #0026d6 solid;padding-bottom:3%\">Initial Data Inspection</div>\n",
    "\n",
    "Let's look at the series data both in the training and testing sets. Before jumping deeply inside the series insights, let's shrink the training series data to only contain 37 series fully covered with the labelled events data."
   ]
  },
  {
   "cell_type": "code",
   "execution_count": null,
   "metadata": {
    "_kg_hide-input": true,
    "execution": {
     "iopub.execute_input": "2023-10-04T10:54:39.096498Z",
     "iopub.status.busy": "2023-10-04T10:54:39.096145Z",
     "iopub.status.idle": "2023-10-04T10:54:46.687156Z",
     "shell.execute_reply": "2023-10-04T10:54:46.686442Z",
     "shell.execute_reply.started": "2023-10-04T10:54:39.096463Z"
    },
    "ExecuteTime": {
     "start_time": "2023-10-17T16:04:27.491343800Z"
    }
   },
   "outputs": [],
   "source": [
    "%%time\n",
    "train_series = train_series[train_series['series_id'].isin(no_NaN_series)]"
   ]
  },
  {
   "cell_type": "code",
   "execution_count": null,
   "metadata": {
    "_kg_hide-input": true,
    "execution": {
     "iopub.execute_input": "2023-10-04T10:54:46.689036Z",
     "iopub.status.busy": "2023-10-04T10:54:46.688481Z",
     "iopub.status.idle": "2023-10-04T10:55:02.732751Z",
     "shell.execute_reply": "2023-10-04T10:55:02.731451Z",
     "shell.execute_reply.started": "2023-10-04T10:54:46.688997Z"
    },
    "ExecuteTime": {
     "end_time": "2023-10-17T16:04:27.568849400Z",
     "start_time": "2023-10-17T16:04:27.493344800Z"
    }
   },
   "outputs": [],
   "source": [
    "summarize_dataframe(train_series).style.background_gradient(cmap='Purples')"
   ]
  },
  {
   "cell_type": "code",
   "execution_count": null,
   "metadata": {
    "_kg_hide-input": true,
    "execution": {
     "iopub.execute_input": "2023-10-04T10:55:02.735127Z",
     "iopub.status.busy": "2023-10-04T10:55:02.734087Z",
     "iopub.status.idle": "2023-10-04T10:55:02.78191Z",
     "shell.execute_reply": "2023-10-04T10:55:02.781105Z",
     "shell.execute_reply.started": "2023-10-04T10:55:02.735084Z"
    },
    "ExecuteTime": {
     "start_time": "2023-10-17T16:04:27.494343700Z"
    }
   },
   "outputs": [],
   "source": [
    "summarize_dataframe(test_series).style.background_gradient(cmap='Purples')"
   ]
  },
  {
   "cell_type": "markdown",
   "metadata": {},
   "source": [
    "\n",
    "We find that\n",
    "- the series data in the shrinked training set contains the information for *37* series\n",
    "- the  series data in the testing set contains the  information for *3* series to be used for prediction\n",
    "- we can note statistically significant differences in the spread of *angelz* and *enmo* in the training and testing series"
   ]
  },
  {
   "cell_type": "markdown",
   "metadata": {},
   "source": [
    "## <div style=\"font-size:20px;text-align:center;color:black;border-bottom:5px #0026d6 solid;padding-bottom:3%\">Insights from Seria Data</div>\n",
    "\n",
    "The table below summarizes the key takeaways for the BigData-scale EDA drills on training and testing seria:\n",
    "\n",
    "<style>\n",
    "#features {\n",
    "  font-family: Arial, Helvetica, sans-serif;\n",
    "  border-collapse: collapse;\n",
    "  width: 100%;\n",
    "}\n",
    "\n",
    "#features td, #features th {\n",
    "  border: 1px solid #ddd;\n",
    "  padding: 8px;\n",
    "}\n",
    "\n",
    "#features tr:nth-child(even){background-color: #f2f2f2;}\n",
    "\n",
    "#features tr:hover {background-color: #ddd;}\n",
    "\n",
    "#features th {\n",
    "  padding-top: 12px;\n",
    "  padding-bottom: 12px;\n",
    "  text-align: left;\n",
    "  background-color: #CBC3E3;\n",
    "  color: white;\n",
    "}\n",
    "</style>\n",
    "\n",
    "<table id=\"features\">\n",
    "    <tr>\n",
    "        <th>&nbsp;</th>\n",
    "        <th>Description</th>\n",
    "    </tr>\n",
    "    <tr>\n",
    "      <td>❗</td>\n",
    "      <td>There is a lack of the systematic patterns in the population-level and series-level distribution and aggregated statistics for <i>enmo</i> and <i>angllez</i> in both training and test seria sets</td>\n",
    "    </tr>\n",
    "    <tr>\n",
    "      <td>✅</td>\n",
    "      <td>Distribution and summary statistics of <i>enmo</i> and <i>angllez</i> are significantly different in training seria vs. test seria</td>\n",
    "    </tr>\n",
    "    <tr>\n",
    "      <td>🚩</td>\n",
    "      <td>Test series data contains the <i>enmo</i> and <i>angllez</i> feeds for just three seria, 1 h long each; such a structure of the test set may impose some complications/road blocks to the ML solutions attempting to tackle the contest problem in the tabular classification setup</td>\n",
    "    </tr>\n",
    "    <tr>\n",
    "      <td>📝</td>\n",
    "      <td>The average values of <i>enmo</i> are typically lower for the hours where <i>onset</i> events are more frequent (in the training set)</td>\n",
    "    </tr>\n",
    "    <tr>\n",
    "      <td>📝</td>\n",
    "      <td>The average values of <i>enmo</i> are typically lower for the hours where <i>wakeup</i> events are more frequent (in the training set)</td>\n",
    "    </tr>\n",
    "    <tr>\n",
    "      <td>📝</td>\n",
    "      <td>The average values of <i>anglez</i> are typically higher for the hours where <i>wakeup</i> events are more frequent (although we can see some hours without major number of <i><b>wakeup</b></i> events to have the similar average values of <i>anglez</i>)</td>\n",
    "    </tr>\n",
    "    <tr>\n",
    "      <td>📝</td>\n",
    "      <td>The average values of <i>anglez</i> are typically typically lower for the hours where <i><b>onset</b></i> events are more frequent</td>\n",
    "    </tr>\n",
    " </table>\n",
    "\n",
    "\n",
    "Regarding the intervals of sleeping and being awake, we also noticed the facts below\n",
    "- the average values of *anglez* are even more high in the time intervals where a person is awake (it can be even higher then the average values for the hours with the bigger number of *wakeup* events registered)\n",
    "- higher values of *enmo* are observed for the awake state of the observable humans\n",
    "\n",
    "<div class=\"alert alert-block alert-success\"> 💥 <b>Highlights</b>: The above-mentioned finding about the hourly patterns in matching <i>onset/wakeup</i> events to the average hourly values of <i>enmo</i> and <i>angllez</i>, combined with the earlier detected findings on the lack of the systematic patterns in the population-level and series-level distribution and aggregated statistics for <i>enmo</i> and <i>angllez</i>, may highlight an interesting forecasting strategy. <br><br>\n",
    "    \n",
    "The ML solution can focus on scanning the time series breakpoints where simultaneoursly observed are\n",
    "<ul>\n",
    "    <li>drastic decrease in <i>enmo</i> and <i>anglez</i> values (to indicate a point suspicious of <b><i>onset</i></b> event) </li>\n",
    "    <li>drastic decrease in <i>enmo</i> value and increase in <i>anglez</i> value (to indicate a point suspicious of <b><i>wakeup</i></b> event) </li>\n",
    "</ul>\n",
    "</div>\n",
    "\n",
    "<div class=\"alert alert-block alert-info\"> ✅ <b>Note</b>: In order to perform the analytics operations to get the insights on training and testing series data (BigData-scale data, indeed), we leveraged <b><i>DuckDB</i></b>, the fast, lightweight, and easy-to-use analytics database with a good API/wrappers for Python. You can find the detailed flow of the respective analysis in a separate notebook per <a href=\"https://www.kaggle.com/code/gvyshnya/plotting-big-data-sleeping-series\" target=\"_blank\">Plotting Big Data: Sleeping Series</a>.\n",
    "</div>\n"
   ]
  },
  {
   "cell_type": "markdown",
   "metadata": {},
   "source": [
    "# <div style=\"color:white;background-color:#1d1545;padding:3%;border-radius:50px 50px;font-size:1em;text-align:center\">Additional EDA Insights</div>\n",
    "\n",
    "TBD"
   ]
  },
  {
   "cell_type": "markdown",
   "metadata": {},
   "source": [
    "# <div style=\"color:white;background-color:#1d1545;padding:3%;border-radius:50px 50px;font-size:1em;text-align:center\">References</div>\n",
    "\n",
    "-  Polars (2023): User Guide https://pola-rs.github.io/polars-book/user-guide/ (accessed Sep 28, 2023)\n",
    "- “Stackoverflow”, “What are the differences between feather and parquet?”. stackoverflow.com. https://stackoverflow.com/questions/48083405/what-are-the-differences-between-feather-and-parquet (accessed Sep 28, 2023)\n",
    "- Leonie Monegatti, \"Pandas vs. Polars: A Syntax and Speed Comparison\" https://towardsdatascience.com/pandas-vs-polars-a-syntax-and-speed-comparison-5aa54e27497e#454c (accessed Sep 28, 2023)\n",
    "- Priyanshu Chaudhary, \"Pandas 2.0 vs Polars: The Ultimate Battle\" https://medium.com/cuenex/pandas-2-0-vs-polars-the-ultimate-battle-a378eb75d6d1 (accessed Sep 28, 2023)\n",
    "- Boriharn K, \"7 Visualizations with Python to Handle Multivariate Categorical Data\" https://towardsdatascience.com/7-visualizations-with-python-to-handle-multivariate-categorical-data-63158db0911d (accessed Sep 28, 2023)\n",
    "- \"CRAN R-Project\", \"Accelerometer data processing with GGIR\" https://cran.r-project.org/web/packages/GGIR/vignettes/GGIR.html#4_Inspecting_the_results (accessed Sep 28, 2023)\n",
    "- Kalaivani Sundararajan, Sonja Georgievska, Bart H. W. te Lindert, Philip R. Gehrman, Jennifer Ramautar, Diego R. Mazzotti, Séverine Sabia, Michael N. Weedon, Eus J. W. van Someren, Lars Ridder, Jian Wang & Vincent T. van Hees, \"Sleep classification from wrist‑worn accelerometer data using random forests\", \"Nature\" - https://www.nature.com/articles/s41598-020-79217-x.pdf (accessed Sep 28, 2023)\n",
    "- van Hees, V.T., Sabia, S., Jones, S.E. et al. Estimating sleep parameters using an accelerometer without sleep diary. Sci Rep 8, 12975 (2018). https://doi.org/10.1038/s41598-018-31266-z (accessed Sep 28, 2023)"
   ]
  },
  {
   "cell_type": "markdown",
   "metadata": {},
   "source": [
    "# <div style=\"color:white;background-color:#1d1545;padding:3%;border-radius:50px 50px;font-size:1em;text-align:center\">Kudos</div>\n",
    "\n",
    "This notebook is inspired by some other peer Kaggler contributions as per the list below\n",
    "- Carl Ellis [@carlmcbrideellis](https://www.kaggle.com/carlmcbrideellis) and his contributions as for *(1)* detecting incompletely labelled training series as well as building the [lightweight training dataset + binary target (awake)](https://www.kaggle.com/datasets/carlmcbrideellis/zzzs-lightweight-training-dataset-target) for the contest, and *(2)* highlighting UTC vs. local time zone issues in the series and events data (see it in the [respective notebook](https://www.kaggle.com/code/carlmcbrideellis/zzzs-eda-utc-or-not-utc))\n",
    "- Enrico Manosperti [@enricomanosperti](https://www.kaggle.com/enricomanosperti) and his swift time-effective data loading strategy with Polars (as conveyed by [his notebook](https://www.kaggle.com/code/enricomanosperti/detect-sleep-states-first-preprocessing-and-eda))\n",
    "- Renato Regiani [@renatoreggiani](https://www.kaggle.com/renatoreggiani) and his implementation of Pandas DF memory reduction (as per the [notebook](https://www.kaggle.com/code/renatoreggiani/reduce-memory-usage-zzzs-cmi)) \n",
    "- Rishabh Jain [@rishabh15virgo](https://www.kaggle.com/rishabh15virgo) and his ideas on the express automated visualized summary of the data in Pandas dataframes (as presented by [his notebook](https://www.kaggle.com/code/rishabh15virgo/cmi-dss-first-impression-data-understanding-eda))\n",
    "- Chun Fu [@patrick0302](https://www.kaggle.com/patrick0302) and his idea to visualize time-based density of the events across all of the training series (as per the respective [notebook](https://www.kaggle.com/code/patrick0302/viz-of-sleeping-time-series))\n",
    "- Ali Nasri Nazif [@alinasri](https://www.kaggle.com/alinasri) and his [idea](https://www.kaggle.com/code/alinasri/sleep-data-analysis-some-eda) to calculate the summary stats for sleeping duration\n",
    "- Ravi Ramakrishnan [@ravi20076](https://www.kaggle.com/ravi20076) and his swift use of *colorama* and *pprint* to decorate and nicely format the console print output (as demonstrated in his [notebook](https://www.kaggle.com/code/ravi20076/sleepstate-eda-baseline))\n",
    "- Marília Prata [@mpwolke](https://www.kaggle.com/mpwolke) and her profound and medically enriched knowledge sharing about z-angle (*anglez* in our datasets) as well as using its variance in accelerometer observations to predict sleeping interrupts (see the [respective notebook](https://www.kaggle.com/code/mpwolke/the-zzzs-anglez-aka-z-angle) for more info)"
   ]
  }
 ],
 "metadata": {
  "kernelspec": {
   "display_name": "Python 3",
   "language": "python",
   "name": "python3"
  },
  "language_info": {
   "codemirror_mode": {
    "name": "ipython",
    "version": 3
   },
   "file_extension": ".py",
   "mimetype": "text/x-python",
   "name": "python",
   "nbconvert_exporter": "python",
   "pygments_lexer": "ipython3",
   "version": "3.6.4"
  }
 },
 "nbformat": 4,
 "nbformat_minor": 4
}
